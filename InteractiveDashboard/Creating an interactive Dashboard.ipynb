{
 "cells": [
  {
   "cell_type": "code",
   "execution_count": 31,
   "id": "97fcea2d",
   "metadata": {},
   "outputs": [],
   "source": [
    "import panel as pn\n",
    "from panel.interact import interact\n",
    "pn.extension('tabulator')\n",
    "\n",
    "import hvplot.pandas\n",
    "\n",
    "import holoviews as hv\n",
    "from holoviews import opts\n",
    "hv.extension('bokeh')\n"
   ]
  },
  {
   "cell_type": "code",
   "execution_count": 32,
   "id": "143306a0",
   "metadata": {},
   "outputs": [
    {
     "data": {
      "text/html": [
       "<div>\n",
       "<style scoped>\n",
       "    .dataframe tbody tr th:only-of-type {\n",
       "        vertical-align: middle;\n",
       "    }\n",
       "\n",
       "    .dataframe tbody tr th {\n",
       "        vertical-align: top;\n",
       "    }\n",
       "\n",
       "    .dataframe thead th {\n",
       "        text-align: right;\n",
       "    }\n",
       "</style>\n",
       "<table border=\"1\" class=\"dataframe\">\n",
       "  <thead>\n",
       "    <tr style=\"text-align: right;\">\n",
       "      <th></th>\n",
       "      <th>#</th>\n",
       "      <th>Name</th>\n",
       "      <th>Type 1</th>\n",
       "      <th>Type 2</th>\n",
       "      <th>HP</th>\n",
       "      <th>Attack</th>\n",
       "      <th>Defense</th>\n",
       "      <th>Sp. Atk</th>\n",
       "      <th>Sp. Def</th>\n",
       "      <th>Speed</th>\n",
       "      <th>Generation</th>\n",
       "      <th>Legendary</th>\n",
       "    </tr>\n",
       "  </thead>\n",
       "  <tbody>\n",
       "    <tr>\n",
       "      <th>0</th>\n",
       "      <td>1</td>\n",
       "      <td>Bulbasaur</td>\n",
       "      <td>Grass</td>\n",
       "      <td>Poison</td>\n",
       "      <td>45.0</td>\n",
       "      <td>49.0</td>\n",
       "      <td>49</td>\n",
       "      <td>65.0</td>\n",
       "      <td>65.0</td>\n",
       "      <td>45</td>\n",
       "      <td>1</td>\n",
       "      <td>False</td>\n",
       "    </tr>\n",
       "    <tr>\n",
       "      <th>1</th>\n",
       "      <td>2</td>\n",
       "      <td>Ivysaur</td>\n",
       "      <td>Grass</td>\n",
       "      <td>Poison</td>\n",
       "      <td>60.0</td>\n",
       "      <td>62.0</td>\n",
       "      <td>63</td>\n",
       "      <td>80.0</td>\n",
       "      <td>NaN</td>\n",
       "      <td>60</td>\n",
       "      <td>1</td>\n",
       "      <td>False</td>\n",
       "    </tr>\n",
       "    <tr>\n",
       "      <th>2</th>\n",
       "      <td>3</td>\n",
       "      <td>Venusaur</td>\n",
       "      <td>Grass</td>\n",
       "      <td>Poison</td>\n",
       "      <td>80.0</td>\n",
       "      <td>NaN</td>\n",
       "      <td>83</td>\n",
       "      <td>100.0</td>\n",
       "      <td>100.0</td>\n",
       "      <td>80</td>\n",
       "      <td>1</td>\n",
       "      <td>False</td>\n",
       "    </tr>\n",
       "    <tr>\n",
       "      <th>3</th>\n",
       "      <td>3</td>\n",
       "      <td>VenusaurMega Venusaur</td>\n",
       "      <td>Grass</td>\n",
       "      <td>Poison</td>\n",
       "      <td>80.0</td>\n",
       "      <td>100.0</td>\n",
       "      <td>123</td>\n",
       "      <td>NaN</td>\n",
       "      <td>120.0</td>\n",
       "      <td>80</td>\n",
       "      <td>1</td>\n",
       "      <td>False</td>\n",
       "    </tr>\n",
       "    <tr>\n",
       "      <th>4</th>\n",
       "      <td>4</td>\n",
       "      <td>Charmander</td>\n",
       "      <td>Fire</td>\n",
       "      <td>NaN</td>\n",
       "      <td>NaN</td>\n",
       "      <td>52.0</td>\n",
       "      <td>43</td>\n",
       "      <td>60.0</td>\n",
       "      <td>50.0</td>\n",
       "      <td>65</td>\n",
       "      <td>1</td>\n",
       "      <td>False</td>\n",
       "    </tr>\n",
       "    <tr>\n",
       "      <th>...</th>\n",
       "      <td>...</td>\n",
       "      <td>...</td>\n",
       "      <td>...</td>\n",
       "      <td>...</td>\n",
       "      <td>...</td>\n",
       "      <td>...</td>\n",
       "      <td>...</td>\n",
       "      <td>...</td>\n",
       "      <td>...</td>\n",
       "      <td>...</td>\n",
       "      <td>...</td>\n",
       "      <td>...</td>\n",
       "    </tr>\n",
       "    <tr>\n",
       "      <th>795</th>\n",
       "      <td>719</td>\n",
       "      <td>Diancie</td>\n",
       "      <td>Rock</td>\n",
       "      <td>Fairy</td>\n",
       "      <td>50.0</td>\n",
       "      <td>100.0</td>\n",
       "      <td>150</td>\n",
       "      <td>100.0</td>\n",
       "      <td>150.0</td>\n",
       "      <td>50</td>\n",
       "      <td>6</td>\n",
       "      <td>True</td>\n",
       "    </tr>\n",
       "    <tr>\n",
       "      <th>796</th>\n",
       "      <td>719</td>\n",
       "      <td>DiancieMega Diancie</td>\n",
       "      <td>Rock</td>\n",
       "      <td>Fairy</td>\n",
       "      <td>50.0</td>\n",
       "      <td>160.0</td>\n",
       "      <td>110</td>\n",
       "      <td>160.0</td>\n",
       "      <td>110.0</td>\n",
       "      <td>110</td>\n",
       "      <td>6</td>\n",
       "      <td>True</td>\n",
       "    </tr>\n",
       "    <tr>\n",
       "      <th>797</th>\n",
       "      <td>720</td>\n",
       "      <td>HoopaHoopa Confined</td>\n",
       "      <td>Psychic</td>\n",
       "      <td>Ghost</td>\n",
       "      <td>80.0</td>\n",
       "      <td>110.0</td>\n",
       "      <td>60</td>\n",
       "      <td>150.0</td>\n",
       "      <td>130.0</td>\n",
       "      <td>70</td>\n",
       "      <td>6</td>\n",
       "      <td>True</td>\n",
       "    </tr>\n",
       "    <tr>\n",
       "      <th>798</th>\n",
       "      <td>720</td>\n",
       "      <td>HoopaHoopa Unbound</td>\n",
       "      <td>Psychic</td>\n",
       "      <td>Dark</td>\n",
       "      <td>80.0</td>\n",
       "      <td>160.0</td>\n",
       "      <td>60</td>\n",
       "      <td>170.0</td>\n",
       "      <td>130.0</td>\n",
       "      <td>80</td>\n",
       "      <td>6</td>\n",
       "      <td>True</td>\n",
       "    </tr>\n",
       "    <tr>\n",
       "      <th>799</th>\n",
       "      <td>721</td>\n",
       "      <td>Volcanion</td>\n",
       "      <td>Fire</td>\n",
       "      <td>Water</td>\n",
       "      <td>80.0</td>\n",
       "      <td>110.0</td>\n",
       "      <td>120</td>\n",
       "      <td>130.0</td>\n",
       "      <td>90.0</td>\n",
       "      <td>70</td>\n",
       "      <td>6</td>\n",
       "      <td>True</td>\n",
       "    </tr>\n",
       "  </tbody>\n",
       "</table>\n",
       "<p>800 rows × 12 columns</p>\n",
       "</div>"
      ],
      "text/plain": [
       "       #                   Name   Type 1  Type 2    HP  Attack  Defense  \\\n",
       "0      1              Bulbasaur    Grass  Poison  45.0    49.0       49   \n",
       "1      2                Ivysaur    Grass  Poison  60.0    62.0       63   \n",
       "2      3               Venusaur    Grass  Poison  80.0     NaN       83   \n",
       "3      3  VenusaurMega Venusaur    Grass  Poison  80.0   100.0      123   \n",
       "4      4             Charmander     Fire     NaN   NaN    52.0       43   \n",
       "..   ...                    ...      ...     ...   ...     ...      ...   \n",
       "795  719                Diancie     Rock   Fairy  50.0   100.0      150   \n",
       "796  719    DiancieMega Diancie     Rock   Fairy  50.0   160.0      110   \n",
       "797  720    HoopaHoopa Confined  Psychic   Ghost  80.0   110.0       60   \n",
       "798  720     HoopaHoopa Unbound  Psychic    Dark  80.0   160.0       60   \n",
       "799  721              Volcanion     Fire   Water  80.0   110.0      120   \n",
       "\n",
       "     Sp. Atk  Sp. Def  Speed  Generation  Legendary  \n",
       "0       65.0     65.0     45           1      False  \n",
       "1       80.0      NaN     60           1      False  \n",
       "2      100.0    100.0     80           1      False  \n",
       "3        NaN    120.0     80           1      False  \n",
       "4       60.0     50.0     65           1      False  \n",
       "..       ...      ...    ...         ...        ...  \n",
       "795    100.0    150.0     50           6       True  \n",
       "796    160.0    110.0    110           6       True  \n",
       "797    150.0    130.0     70           6       True  \n",
       "798    170.0    130.0     80           6       True  \n",
       "799    130.0     90.0     70           6       True  \n",
       "\n",
       "[800 rows x 12 columns]"
      ]
     },
     "execution_count": 32,
     "metadata": {},
     "output_type": "execute_result"
    }
   ],
   "source": [
    "import pandas as pd\n",
    "df=pd.read_csv('pokemon_data.csv')\n",
    "df"
   ]
  },
  {
   "cell_type": "code",
   "execution_count": 33,
   "id": "b109359e",
   "metadata": {},
   "outputs": [
    {
     "data": {},
     "metadata": {},
     "output_type": "display_data"
    },
    {
     "data": {
      "application/vnd.holoviews_exec.v0+json": "",
      "text/html": [
       "<div id='5152'>\n",
       "  <div class=\"bk-root\" id=\"39321914-b4c3-422f-9be1-651c207c9db8\" data-root-id=\"5152\"></div>\n",
       "</div>\n",
       "<script type=\"application/javascript\">(function(root) {\n",
       "  function embed_document(root) {\n",
       "    var docs_json = {\"f4afe8f9-0522-484b-962a-9a409e154173\":{\"defs\":[{\"extends\":null,\"module\":null,\"name\":\"ReactiveHTML1\",\"overrides\":[],\"properties\":[]},{\"extends\":null,\"module\":null,\"name\":\"FlexBox1\",\"overrides\":[],\"properties\":[{\"default\":\"flex-start\",\"kind\":null,\"name\":\"align_content\"},{\"default\":\"flex-start\",\"kind\":null,\"name\":\"align_items\"},{\"default\":\"row\",\"kind\":null,\"name\":\"flex_direction\"},{\"default\":\"wrap\",\"kind\":null,\"name\":\"flex_wrap\"},{\"default\":\"flex-start\",\"kind\":null,\"name\":\"justify_content\"}]},{\"extends\":null,\"module\":null,\"name\":\"GridStack1\",\"overrides\":[],\"properties\":[{\"default\":\"warn\",\"kind\":null,\"name\":\"mode\"},{\"default\":null,\"kind\":null,\"name\":\"ncols\"},{\"default\":null,\"kind\":null,\"name\":\"nrows\"},{\"default\":true,\"kind\":null,\"name\":\"allow_resize\"},{\"default\":true,\"kind\":null,\"name\":\"allow_drag\"},{\"default\":[],\"kind\":null,\"name\":\"state\"}]},{\"extends\":null,\"module\":null,\"name\":\"click1\",\"overrides\":[],\"properties\":[{\"default\":\"\",\"kind\":null,\"name\":\"terminal_output\"},{\"default\":\"\",\"kind\":null,\"name\":\"debug_name\"},{\"default\":0,\"kind\":null,\"name\":\"clears\"}]},{\"extends\":null,\"module\":null,\"name\":\"NotificationAreaBase1\",\"overrides\":[],\"properties\":[{\"default\":\"bottom-right\",\"kind\":null,\"name\":\"position\"},{\"default\":0,\"kind\":null,\"name\":\"_clear\"}]},{\"extends\":null,\"module\":null,\"name\":\"NotificationArea1\",\"overrides\":[],\"properties\":[{\"default\":[],\"kind\":null,\"name\":\"notifications\"},{\"default\":\"bottom-right\",\"kind\":null,\"name\":\"position\"},{\"default\":0,\"kind\":null,\"name\":\"_clear\"},{\"default\":[{\"background\":\"#ffc107\",\"icon\":{\"className\":\"fas fa-exclamation-triangle\",\"color\":\"white\",\"tagName\":\"i\"},\"type\":\"warning\"},{\"background\":\"#007bff\",\"icon\":{\"className\":\"fas fa-info-circle\",\"color\":\"white\",\"tagName\":\"i\"},\"type\":\"info\"}],\"kind\":null,\"name\":\"types\"}]},{\"extends\":null,\"module\":null,\"name\":\"Notification\",\"overrides\":[],\"properties\":[{\"default\":null,\"kind\":null,\"name\":\"background\"},{\"default\":3000,\"kind\":null,\"name\":\"duration\"},{\"default\":null,\"kind\":null,\"name\":\"icon\"},{\"default\":\"\",\"kind\":null,\"name\":\"message\"},{\"default\":null,\"kind\":null,\"name\":\"notification_type\"},{\"default\":false,\"kind\":null,\"name\":\"_destroyed\"}]},{\"extends\":null,\"module\":null,\"name\":\"TemplateActions1\",\"overrides\":[],\"properties\":[{\"default\":0,\"kind\":null,\"name\":\"open_modal\"},{\"default\":0,\"kind\":null,\"name\":\"close_modal\"}]},{\"extends\":null,\"module\":null,\"name\":\"MaterialTemplateActions1\",\"overrides\":[],\"properties\":[{\"default\":0,\"kind\":null,\"name\":\"open_modal\"},{\"default\":0,\"kind\":null,\"name\":\"close_modal\"}]}],\"roots\":{\"references\":[{\"attributes\":{\"client_comm_id\":\"319299b48ef442c29ca6bf0886750191\",\"comm_id\":\"253778035add4936b4e72bc01e6baf3a\",\"plot_id\":\"5152\"},\"id\":\"5153\",\"type\":\"panel.models.comm_manager.CommManager\"},{\"attributes\":{\"end\":300,\"margin\":[5,10,5,10],\"start\":10,\"step\":3,\"title\":\"HP slider\",\"value\":100},\"id\":\"5152\",\"type\":\"Slider\"}],\"root_ids\":[\"5152\",\"5153\"]},\"title\":\"Bokeh Application\",\"version\":\"2.4.3\"}};\n",
       "    var render_items = [{\"docid\":\"f4afe8f9-0522-484b-962a-9a409e154173\",\"root_ids\":[\"5152\"],\"roots\":{\"5152\":\"39321914-b4c3-422f-9be1-651c207c9db8\"}}];\n",
       "    root.Bokeh.embed.embed_items_notebook(docs_json, render_items);\n",
       "  }\n",
       "  if (root.Bokeh !== undefined && root.Bokeh.Panel !== undefined && ( root['Tabulator'] !== undefined) && ( root['Tabulator'] !== undefined) && ( root['Tabulator'] !== undefined) && ( root['Tabulator'] !== undefined)) {\n",
       "    embed_document(root);\n",
       "  } else {\n",
       "    var attempts = 0;\n",
       "    var timer = setInterval(function(root) {\n",
       "      if (root.Bokeh !== undefined && root.Bokeh.Panel !== undefined && (root['Tabulator'] !== undefined) && (root['Tabulator'] !== undefined) && (root['Tabulator'] !== undefined) && (root['Tabulator'] !== undefined)) {\n",
       "        clearInterval(timer);\n",
       "        embed_document(root);\n",
       "      } else if (document.readyState == \"complete\") {\n",
       "        attempts++;\n",
       "        if (attempts > 200) {\n",
       "          clearInterval(timer);\n",
       "          console.log(\"Bokeh: ERROR: Unable to run BokehJS code because BokehJS library is missing\");\n",
       "        }\n",
       "      }\n",
       "    }, 25, root)\n",
       "  }\n",
       "})(window);</script>"
      ],
      "text/plain": [
       "IntSlider(end=300, name='HP slider', start=10, step=3, value=100)"
      ]
     },
     "execution_count": 33,
     "metadata": {
      "application/vnd.holoviews_exec.v0+json": {
       "id": "5152"
      }
     },
     "output_type": "execute_result"
    }
   ],
   "source": [
    "idf = df.interactive()\n",
    "HP_slider = pn.widgets.IntSlider(name='HP slider', start=10, end=300, step=3, value=100)\n",
    "HP_slider"
   ]
  },
  {
   "cell_type": "code",
   "execution_count": 34,
   "id": "8843577c",
   "metadata": {},
   "outputs": [
    {
     "data": {},
     "metadata": {},
     "output_type": "display_data"
    },
    {
     "data": {
      "application/vnd.holoviews_exec.v0+json": "",
      "text/html": [
       "<div id='5154'>\n",
       "  <div class=\"bk-root\" id=\"5fe31d38-d735-4181-add8-9e4ddf11c90f\" data-root-id=\"5154\"></div>\n",
       "</div>\n",
       "<script type=\"application/javascript\">(function(root) {\n",
       "  function embed_document(root) {\n",
       "    var docs_json = {\"79aa71ef-ab56-4632-9126-14b4036a915d\":{\"defs\":[{\"extends\":null,\"module\":null,\"name\":\"ReactiveHTML1\",\"overrides\":[],\"properties\":[]},{\"extends\":null,\"module\":null,\"name\":\"FlexBox1\",\"overrides\":[],\"properties\":[{\"default\":\"flex-start\",\"kind\":null,\"name\":\"align_content\"},{\"default\":\"flex-start\",\"kind\":null,\"name\":\"align_items\"},{\"default\":\"row\",\"kind\":null,\"name\":\"flex_direction\"},{\"default\":\"wrap\",\"kind\":null,\"name\":\"flex_wrap\"},{\"default\":\"flex-start\",\"kind\":null,\"name\":\"justify_content\"}]},{\"extends\":null,\"module\":null,\"name\":\"GridStack1\",\"overrides\":[],\"properties\":[{\"default\":\"warn\",\"kind\":null,\"name\":\"mode\"},{\"default\":null,\"kind\":null,\"name\":\"ncols\"},{\"default\":null,\"kind\":null,\"name\":\"nrows\"},{\"default\":true,\"kind\":null,\"name\":\"allow_resize\"},{\"default\":true,\"kind\":null,\"name\":\"allow_drag\"},{\"default\":[],\"kind\":null,\"name\":\"state\"}]},{\"extends\":null,\"module\":null,\"name\":\"click1\",\"overrides\":[],\"properties\":[{\"default\":\"\",\"kind\":null,\"name\":\"terminal_output\"},{\"default\":\"\",\"kind\":null,\"name\":\"debug_name\"},{\"default\":0,\"kind\":null,\"name\":\"clears\"}]},{\"extends\":null,\"module\":null,\"name\":\"NotificationAreaBase1\",\"overrides\":[],\"properties\":[{\"default\":\"bottom-right\",\"kind\":null,\"name\":\"position\"},{\"default\":0,\"kind\":null,\"name\":\"_clear\"}]},{\"extends\":null,\"module\":null,\"name\":\"NotificationArea1\",\"overrides\":[],\"properties\":[{\"default\":[],\"kind\":null,\"name\":\"notifications\"},{\"default\":\"bottom-right\",\"kind\":null,\"name\":\"position\"},{\"default\":0,\"kind\":null,\"name\":\"_clear\"},{\"default\":[{\"background\":\"#ffc107\",\"icon\":{\"className\":\"fas fa-exclamation-triangle\",\"color\":\"white\",\"tagName\":\"i\"},\"type\":\"warning\"},{\"background\":\"#007bff\",\"icon\":{\"className\":\"fas fa-info-circle\",\"color\":\"white\",\"tagName\":\"i\"},\"type\":\"info\"}],\"kind\":null,\"name\":\"types\"}]},{\"extends\":null,\"module\":null,\"name\":\"Notification\",\"overrides\":[],\"properties\":[{\"default\":null,\"kind\":null,\"name\":\"background\"},{\"default\":3000,\"kind\":null,\"name\":\"duration\"},{\"default\":null,\"kind\":null,\"name\":\"icon\"},{\"default\":\"\",\"kind\":null,\"name\":\"message\"},{\"default\":null,\"kind\":null,\"name\":\"notification_type\"},{\"default\":false,\"kind\":null,\"name\":\"_destroyed\"}]},{\"extends\":null,\"module\":null,\"name\":\"TemplateActions1\",\"overrides\":[],\"properties\":[{\"default\":0,\"kind\":null,\"name\":\"open_modal\"},{\"default\":0,\"kind\":null,\"name\":\"close_modal\"}]},{\"extends\":null,\"module\":null,\"name\":\"MaterialTemplateActions1\",\"overrides\":[],\"properties\":[{\"default\":0,\"kind\":null,\"name\":\"open_modal\"},{\"default\":0,\"kind\":null,\"name\":\"close_modal\"}]}],\"roots\":{\"references\":[{\"attributes\":{\"client_comm_id\":\"7aa835b2857c4b3286169e8ae97e2d33\",\"comm_id\":\"ac88824614f64d9c918df669663abff6\",\"plot_id\":\"5154\"},\"id\":\"5155\",\"type\":\"panel.models.comm_manager.CommManager\"},{\"attributes\":{\"active\":0,\"button_type\":\"success\",\"labels\":[\"Speed\",\"Defense\"],\"margin\":[5,10,5,10]},\"id\":\"5154\",\"type\":\"RadioButtonGroup\"}],\"root_ids\":[\"5154\",\"5155\"]},\"title\":\"Bokeh Application\",\"version\":\"2.4.3\"}};\n",
       "    var render_items = [{\"docid\":\"79aa71ef-ab56-4632-9126-14b4036a915d\",\"root_ids\":[\"5154\"],\"roots\":{\"5154\":\"5fe31d38-d735-4181-add8-9e4ddf11c90f\"}}];\n",
       "    root.Bokeh.embed.embed_items_notebook(docs_json, render_items);\n",
       "  }\n",
       "  if (root.Bokeh !== undefined && root.Bokeh.Panel !== undefined && ( root['Tabulator'] !== undefined) && ( root['Tabulator'] !== undefined) && ( root['Tabulator'] !== undefined) && ( root['Tabulator'] !== undefined)) {\n",
       "    embed_document(root);\n",
       "  } else {\n",
       "    var attempts = 0;\n",
       "    var timer = setInterval(function(root) {\n",
       "      if (root.Bokeh !== undefined && root.Bokeh.Panel !== undefined && (root['Tabulator'] !== undefined) && (root['Tabulator'] !== undefined) && (root['Tabulator'] !== undefined) && (root['Tabulator'] !== undefined)) {\n",
       "        clearInterval(timer);\n",
       "        embed_document(root);\n",
       "      } else if (document.readyState == \"complete\") {\n",
       "        attempts++;\n",
       "        if (attempts > 200) {\n",
       "          clearInterval(timer);\n",
       "          console.log(\"Bokeh: ERROR: Unable to run BokehJS code because BokehJS library is missing\");\n",
       "        }\n",
       "      }\n",
       "    }, 25, root)\n",
       "  }\n",
       "})(window);</script>"
      ],
      "text/plain": [
       "RadioButtonGroup(button_type='success', name='Y axis', options=['Speed', 'Defense'], value='Speed')"
      ]
     },
     "execution_count": 34,
     "metadata": {
      "application/vnd.holoviews_exec.v0+json": {
       "id": "5154"
      }
     },
     "output_type": "execute_result"
    }
   ],
   "source": [
    "# Radio buttons for CO2 measures\n",
    "yaxis_pokemon = pn.widgets.RadioButtonGroup(\n",
    "    name='Y axis', \n",
    "    options=['Speed', 'Defense',],\n",
    "    button_type='success'\n",
    ")\n",
    "yaxis_pokemon"
   ]
  },
  {
   "cell_type": "code",
   "execution_count": 35,
   "id": "9d40dece",
   "metadata": {},
   "outputs": [],
   "source": [
    "value = df['Type 1'].unique()\n",
    "\n",
    "pokemon_pipeline = (\n",
    "    idf[\n",
    "        (idf.HP <= HP_slider)\n",
    "    ]\n",
    "    .groupby(['Type 1'])[yaxis_co2].mean()\n",
    "    .to_frame()\n",
    "    .reset_index()\n",
    "    .sort_values(by='Type 1')  \n",
    "    .reset_index(drop=True)\n",
    ")"
   ]
  },
  {
   "cell_type": "code",
   "execution_count": 36,
   "id": "1bcb792b",
   "metadata": {},
   "outputs": [
    {
     "data": {},
     "metadata": {},
     "output_type": "display_data"
    },
    {
     "data": {
      "application/vnd.holoviews_exec.v0+json": "",
      "text/html": [
       "<div id='5156'>\n",
       "  <div class=\"bk-root\" id=\"2e7ca6d9-cb22-444f-9508-482c161dd341\" data-root-id=\"5156\"></div>\n",
       "</div>\n",
       "<script type=\"application/javascript\">(function(root) {\n",
       "  function embed_document(root) {\n",
       "    var docs_json = {\"c8c864b2-f3e2-4fac-80c9-72d37aad1baa\":{\"defs\":[{\"extends\":null,\"module\":null,\"name\":\"ReactiveHTML1\",\"overrides\":[],\"properties\":[]},{\"extends\":null,\"module\":null,\"name\":\"FlexBox1\",\"overrides\":[],\"properties\":[{\"default\":\"flex-start\",\"kind\":null,\"name\":\"align_content\"},{\"default\":\"flex-start\",\"kind\":null,\"name\":\"align_items\"},{\"default\":\"row\",\"kind\":null,\"name\":\"flex_direction\"},{\"default\":\"wrap\",\"kind\":null,\"name\":\"flex_wrap\"},{\"default\":\"flex-start\",\"kind\":null,\"name\":\"justify_content\"}]},{\"extends\":null,\"module\":null,\"name\":\"GridStack1\",\"overrides\":[],\"properties\":[{\"default\":\"warn\",\"kind\":null,\"name\":\"mode\"},{\"default\":null,\"kind\":null,\"name\":\"ncols\"},{\"default\":null,\"kind\":null,\"name\":\"nrows\"},{\"default\":true,\"kind\":null,\"name\":\"allow_resize\"},{\"default\":true,\"kind\":null,\"name\":\"allow_drag\"},{\"default\":[],\"kind\":null,\"name\":\"state\"}]},{\"extends\":null,\"module\":null,\"name\":\"click1\",\"overrides\":[],\"properties\":[{\"default\":\"\",\"kind\":null,\"name\":\"terminal_output\"},{\"default\":\"\",\"kind\":null,\"name\":\"debug_name\"},{\"default\":0,\"kind\":null,\"name\":\"clears\"}]},{\"extends\":null,\"module\":null,\"name\":\"NotificationAreaBase1\",\"overrides\":[],\"properties\":[{\"default\":\"bottom-right\",\"kind\":null,\"name\":\"position\"},{\"default\":0,\"kind\":null,\"name\":\"_clear\"}]},{\"extends\":null,\"module\":null,\"name\":\"NotificationArea1\",\"overrides\":[],\"properties\":[{\"default\":[],\"kind\":null,\"name\":\"notifications\"},{\"default\":\"bottom-right\",\"kind\":null,\"name\":\"position\"},{\"default\":0,\"kind\":null,\"name\":\"_clear\"},{\"default\":[{\"background\":\"#ffc107\",\"icon\":{\"className\":\"fas fa-exclamation-triangle\",\"color\":\"white\",\"tagName\":\"i\"},\"type\":\"warning\"},{\"background\":\"#007bff\",\"icon\":{\"className\":\"fas fa-info-circle\",\"color\":\"white\",\"tagName\":\"i\"},\"type\":\"info\"}],\"kind\":null,\"name\":\"types\"}]},{\"extends\":null,\"module\":null,\"name\":\"Notification\",\"overrides\":[],\"properties\":[{\"default\":null,\"kind\":null,\"name\":\"background\"},{\"default\":3000,\"kind\":null,\"name\":\"duration\"},{\"default\":null,\"kind\":null,\"name\":\"icon\"},{\"default\":\"\",\"kind\":null,\"name\":\"message\"},{\"default\":null,\"kind\":null,\"name\":\"notification_type\"},{\"default\":false,\"kind\":null,\"name\":\"_destroyed\"}]},{\"extends\":null,\"module\":null,\"name\":\"TemplateActions1\",\"overrides\":[],\"properties\":[{\"default\":0,\"kind\":null,\"name\":\"open_modal\"},{\"default\":0,\"kind\":null,\"name\":\"close_modal\"}]},{\"extends\":null,\"module\":null,\"name\":\"MaterialTemplateActions1\",\"overrides\":[],\"properties\":[{\"default\":0,\"kind\":null,\"name\":\"open_modal\"},{\"default\":0,\"kind\":null,\"name\":\"close_modal\"}]}],\"roots\":{\"references\":[{\"attributes\":{\"margin\":[5,5,5,5],\"name\":\"DataFrame09592\",\"text\":\"&lt;table border=&quot;0&quot; class=&quot;dataframe panel-df&quot;&gt;\\n  &lt;thead&gt;\\n    &lt;tr style=&quot;text-align: right;&quot;&gt;\\n      &lt;th&gt;&lt;/th&gt;\\n      &lt;th&gt;Type 1&lt;/th&gt;\\n      &lt;th&gt;Speed&lt;/th&gt;\\n    &lt;/tr&gt;\\n  &lt;/thead&gt;\\n  &lt;tbody&gt;\\n    &lt;tr&gt;\\n      &lt;th&gt;0&lt;/th&gt;\\n      &lt;td&gt;Bug&lt;/td&gt;\\n      &lt;td&gt;61.681159&lt;/td&gt;\\n    &lt;/tr&gt;\\n    &lt;tr&gt;\\n      &lt;th&gt;1&lt;/th&gt;\\n      &lt;td&gt;Dark&lt;/td&gt;\\n      &lt;td&gt;75.241379&lt;/td&gt;\\n    &lt;/tr&gt;\\n    &lt;tr&gt;\\n      &lt;th&gt;2&lt;/th&gt;\\n      &lt;td&gt;Dragon&lt;/td&gt;\\n      &lt;td&gt;78.041667&lt;/td&gt;\\n    &lt;/tr&gt;\\n    &lt;tr&gt;\\n      &lt;th&gt;3&lt;/th&gt;\\n      &lt;td&gt;Electric&lt;/td&gt;\\n      &lt;td&gt;84.500000&lt;/td&gt;\\n    &lt;/tr&gt;\\n    &lt;tr&gt;\\n      &lt;th&gt;4&lt;/th&gt;\\n      &lt;td&gt;Fairy&lt;/td&gt;\\n      &lt;td&gt;46.533333&lt;/td&gt;\\n    &lt;/tr&gt;\\n    &lt;tr&gt;\\n      &lt;th&gt;5&lt;/th&gt;\\n      &lt;td&gt;Fighting&lt;/td&gt;\\n      &lt;td&gt;68.500000&lt;/td&gt;\\n    &lt;/tr&gt;\\n    &lt;tr&gt;\\n      &lt;th&gt;6&lt;/th&gt;\\n      &lt;td&gt;Fire&lt;/td&gt;\\n      &lt;td&gt;73.934783&lt;/td&gt;\\n    &lt;/tr&gt;\\n    &lt;tr&gt;\\n      &lt;th&gt;7&lt;/th&gt;\\n      &lt;td&gt;Flying&lt;/td&gt;\\n      &lt;td&gt;102.500000&lt;/td&gt;\\n    &lt;/tr&gt;\\n    &lt;tr&gt;\\n      &lt;th&gt;8&lt;/th&gt;\\n      &lt;td&gt;Ghost&lt;/td&gt;\\n      &lt;td&gt;62.034483&lt;/td&gt;\\n    &lt;/tr&gt;\\n    &lt;tr&gt;\\n      &lt;th&gt;9&lt;/th&gt;\\n      &lt;td&gt;Grass&lt;/td&gt;\\n      &lt;td&gt;62.308824&lt;/td&gt;\\n    &lt;/tr&gt;\\n    &lt;tr&gt;\\n      &lt;th&gt;10&lt;/th&gt;\\n      &lt;td&gt;Ground&lt;/td&gt;\\n      &lt;td&gt;66.592593&lt;/td&gt;\\n    &lt;/tr&gt;\\n    &lt;tr&gt;\\n      &lt;th&gt;11&lt;/th&gt;\\n      &lt;td&gt;Ice&lt;/td&gt;\\n      &lt;td&gt;62.636364&lt;/td&gt;\\n    &lt;/tr&gt;\\n    &lt;tr&gt;\\n      &lt;th&gt;12&lt;/th&gt;\\n      &lt;td&gt;Normal&lt;/td&gt;\\n      &lt;td&gt;73.240964&lt;/td&gt;\\n    &lt;/tr&gt;\\n    &lt;tr&gt;\\n      &lt;th&gt;13&lt;/th&gt;\\n      &lt;td&gt;Poison&lt;/td&gt;\\n      &lt;td&gt;63.307692&lt;/td&gt;\\n    &lt;/tr&gt;\\n    &lt;tr&gt;\\n      &lt;th&gt;14&lt;/th&gt;\\n      &lt;td&gt;Psychic&lt;/td&gt;\\n      &lt;td&gt;80.775510&lt;/td&gt;\\n    &lt;/tr&gt;\\n    &lt;tr&gt;\\n      &lt;th&gt;15&lt;/th&gt;\\n      &lt;td&gt;Rock&lt;/td&gt;\\n      &lt;td&gt;55.860465&lt;/td&gt;\\n    &lt;/tr&gt;\\n    &lt;tr&gt;\\n      &lt;th&gt;16&lt;/th&gt;\\n      &lt;td&gt;Steel&lt;/td&gt;\\n      &lt;td&gt;55.259259&lt;/td&gt;\\n    &lt;/tr&gt;\\n    &lt;tr&gt;\\n      &lt;th&gt;17&lt;/th&gt;\\n      &lt;td&gt;Water&lt;/td&gt;\\n      &lt;td&gt;66.388350&lt;/td&gt;\\n    &lt;/tr&gt;\\n  &lt;/tbody&gt;\\n&lt;/table&gt;\"},\"id\":\"5164\",\"type\":\"panel.models.markup.HTML\"},{\"attributes\":{\"children\":[{\"id\":\"5164\"}],\"margin\":[0,0,0,0],\"name\":\"Row09569\"},\"id\":\"5163\",\"type\":\"Row\"},{\"attributes\":{\"children\":[{\"id\":\"5159\"},{\"id\":\"5162\"}],\"margin\":[0,0,0,0],\"name\":\"Row09595\"},\"id\":\"5158\",\"type\":\"Row\"},{\"attributes\":{\"client_comm_id\":\"b6938d71cc3243e58a7dd6f2d80a02b7\",\"comm_id\":\"21b528f594214cccbda0473cba298d38\",\"plot_id\":\"5156\"},\"id\":\"5165\",\"type\":\"panel.models.comm_manager.CommManager\"},{\"attributes\":{\"margin\":[5,5,5,5],\"name\":\"HSpacer09594\",\"sizing_mode\":\"stretch_width\"},\"id\":\"5162\",\"type\":\"Spacer\"},{\"attributes\":{\"children\":[{\"id\":\"5158\"},{\"id\":\"5163\"}],\"margin\":[0,0,0,0],\"name\":\"Column09596\"},\"id\":\"5157\",\"type\":\"Column\"},{\"attributes\":{\"children\":[{\"id\":\"5160\"},{\"id\":\"5161\"}],\"margin\":[0,0,0,0],\"name\":\"Column09564\"},\"id\":\"5159\",\"type\":\"Column\"},{\"attributes\":{\"end\":300,\"margin\":[5,10,5,10],\"start\":10,\"step\":3,\"title\":\"HP slider\",\"value\":100},\"id\":\"5160\",\"type\":\"Slider\"},{\"attributes\":{\"children\":[{\"id\":\"5157\"}],\"margin\":[0,0,0,0],\"name\":\"Row09597\"},\"id\":\"5156\",\"type\":\"Row\"},{\"attributes\":{\"active\":0,\"button_type\":\"success\",\"labels\":[\"Speed\",\"Defense\"],\"margin\":[5,10,5,10]},\"id\":\"5161\",\"type\":\"RadioButtonGroup\"}],\"root_ids\":[\"5156\",\"5165\"]},\"title\":\"Bokeh Application\",\"version\":\"2.4.3\"}};\n",
       "    var render_items = [{\"docid\":\"c8c864b2-f3e2-4fac-80c9-72d37aad1baa\",\"root_ids\":[\"5156\"],\"roots\":{\"5156\":\"2e7ca6d9-cb22-444f-9508-482c161dd341\"}}];\n",
       "    root.Bokeh.embed.embed_items_notebook(docs_json, render_items);\n",
       "  }\n",
       "  if (root.Bokeh !== undefined && root.Bokeh.Panel !== undefined && ( root['Tabulator'] !== undefined) && ( root['Tabulator'] !== undefined) && ( root['Tabulator'] !== undefined) && ( root['Tabulator'] !== undefined)) {\n",
       "    embed_document(root);\n",
       "  } else {\n",
       "    var attempts = 0;\n",
       "    var timer = setInterval(function(root) {\n",
       "      if (root.Bokeh !== undefined && root.Bokeh.Panel !== undefined && (root['Tabulator'] !== undefined) && (root['Tabulator'] !== undefined) && (root['Tabulator'] !== undefined) && (root['Tabulator'] !== undefined)) {\n",
       "        clearInterval(timer);\n",
       "        embed_document(root);\n",
       "      } else if (document.readyState == \"complete\") {\n",
       "        attempts++;\n",
       "        if (attempts > 200) {\n",
       "          clearInterval(timer);\n",
       "          console.log(\"Bokeh: ERROR: Unable to run BokehJS code because BokehJS library is missing\");\n",
       "        }\n",
       "      }\n",
       "    }, 25, root)\n",
       "  }\n",
       "})(window);</script>"
      ],
      "text/plain": [
       "<hvplot.interactive.Interactive at 0x27bf6727b80>"
      ]
     },
     "execution_count": 36,
     "metadata": {
      "application/vnd.holoviews_exec.v0+json": {
       "id": "5156"
      }
     },
     "output_type": "execute_result"
    }
   ],
   "source": [
    "pokemon_pipeline"
   ]
  },
  {
   "cell_type": "code",
   "execution_count": 37,
   "id": "ceb2326d",
   "metadata": {},
   "outputs": [
    {
     "data": {},
     "metadata": {},
     "output_type": "display_data"
    },
    {
     "data": {},
     "metadata": {},
     "output_type": "display_data"
    },
    {
     "data": {
      "application/vnd.holoviews_exec.v0+json": "",
      "text/html": [
       "<div id='5166'>\n",
       "  <div class=\"bk-root\" id=\"5e59f7bb-1ccb-4f89-8fa8-de8ce53270ac\" data-root-id=\"5166\"></div>\n",
       "</div>\n",
       "<script type=\"application/javascript\">(function(root) {\n",
       "  function embed_document(root) {\n",
       "    var docs_json = {\"9d11bb93-c9fc-4de7-bc7c-f2021b1bbd0a\":{\"defs\":[{\"extends\":null,\"module\":null,\"name\":\"ReactiveHTML1\",\"overrides\":[],\"properties\":[]},{\"extends\":null,\"module\":null,\"name\":\"FlexBox1\",\"overrides\":[],\"properties\":[{\"default\":\"flex-start\",\"kind\":null,\"name\":\"align_content\"},{\"default\":\"flex-start\",\"kind\":null,\"name\":\"align_items\"},{\"default\":\"row\",\"kind\":null,\"name\":\"flex_direction\"},{\"default\":\"wrap\",\"kind\":null,\"name\":\"flex_wrap\"},{\"default\":\"flex-start\",\"kind\":null,\"name\":\"justify_content\"}]},{\"extends\":null,\"module\":null,\"name\":\"GridStack1\",\"overrides\":[],\"properties\":[{\"default\":\"warn\",\"kind\":null,\"name\":\"mode\"},{\"default\":null,\"kind\":null,\"name\":\"ncols\"},{\"default\":null,\"kind\":null,\"name\":\"nrows\"},{\"default\":true,\"kind\":null,\"name\":\"allow_resize\"},{\"default\":true,\"kind\":null,\"name\":\"allow_drag\"},{\"default\":[],\"kind\":null,\"name\":\"state\"}]},{\"extends\":null,\"module\":null,\"name\":\"click1\",\"overrides\":[],\"properties\":[{\"default\":\"\",\"kind\":null,\"name\":\"terminal_output\"},{\"default\":\"\",\"kind\":null,\"name\":\"debug_name\"},{\"default\":0,\"kind\":null,\"name\":\"clears\"}]},{\"extends\":null,\"module\":null,\"name\":\"NotificationAreaBase1\",\"overrides\":[],\"properties\":[{\"default\":\"bottom-right\",\"kind\":null,\"name\":\"position\"},{\"default\":0,\"kind\":null,\"name\":\"_clear\"}]},{\"extends\":null,\"module\":null,\"name\":\"NotificationArea1\",\"overrides\":[],\"properties\":[{\"default\":[],\"kind\":null,\"name\":\"notifications\"},{\"default\":\"bottom-right\",\"kind\":null,\"name\":\"position\"},{\"default\":0,\"kind\":null,\"name\":\"_clear\"},{\"default\":[{\"background\":\"#ffc107\",\"icon\":{\"className\":\"fas fa-exclamation-triangle\",\"color\":\"white\",\"tagName\":\"i\"},\"type\":\"warning\"},{\"background\":\"#007bff\",\"icon\":{\"className\":\"fas fa-info-circle\",\"color\":\"white\",\"tagName\":\"i\"},\"type\":\"info\"}],\"kind\":null,\"name\":\"types\"}]},{\"extends\":null,\"module\":null,\"name\":\"Notification\",\"overrides\":[],\"properties\":[{\"default\":null,\"kind\":null,\"name\":\"background\"},{\"default\":3000,\"kind\":null,\"name\":\"duration\"},{\"default\":null,\"kind\":null,\"name\":\"icon\"},{\"default\":\"\",\"kind\":null,\"name\":\"message\"},{\"default\":null,\"kind\":null,\"name\":\"notification_type\"},{\"default\":false,\"kind\":null,\"name\":\"_destroyed\"}]},{\"extends\":null,\"module\":null,\"name\":\"TemplateActions1\",\"overrides\":[],\"properties\":[{\"default\":0,\"kind\":null,\"name\":\"open_modal\"},{\"default\":0,\"kind\":null,\"name\":\"close_modal\"}]},{\"extends\":null,\"module\":null,\"name\":\"MaterialTemplateActions1\",\"overrides\":[],\"properties\":[{\"default\":0,\"kind\":null,\"name\":\"open_modal\"},{\"default\":0,\"kind\":null,\"name\":\"close_modal\"}]}],\"roots\":{\"references\":[{\"attributes\":{},\"id\":\"5206\",\"type\":\"Selection\"},{\"attributes\":{\"active\":0,\"button_type\":\"success\",\"labels\":[\"Speed\",\"Defense\"],\"margin\":[5,10,5,10]},\"id\":\"5171\",\"type\":\"RadioButtonGroup\"},{\"attributes\":{\"margin\":[5,5,5,5],\"name\":\"HSpacer09728\",\"sizing_mode\":\"stretch_width\"},\"id\":\"5172\",\"type\":\"Spacer\"},{\"attributes\":{\"coordinates\":null,\"data_source\":{\"id\":\"5205\"},\"glyph\":{\"id\":\"5208\"},\"group\":null,\"hover_glyph\":null,\"muted_glyph\":{\"id\":\"5210\"},\"nonselection_glyph\":{\"id\":\"5209\"},\"selection_glyph\":{\"id\":\"5213\"},\"view\":{\"id\":\"5212\"}},\"id\":\"5211\",\"type\":\"GlyphRenderer\"},{\"attributes\":{\"line_color\":\"#30a2da\",\"line_width\":2,\"x\":{\"field\":\"Type 1\"},\"y\":{\"field\":\"Speed\"}},\"id\":\"5208\",\"type\":\"Line\"},{\"attributes\":{},\"id\":\"5215\",\"type\":\"CategoricalTickFormatter\"},{\"attributes\":{},\"id\":\"5218\",\"type\":\"BasicTickFormatter\"},{\"attributes\":{},\"id\":\"5219\",\"type\":\"AllLabels\"},{\"attributes\":{\"coordinates\":null,\"group\":null,\"text\":\"Speed, Defense value depending on HP\",\"text_color\":\"black\",\"text_font_size\":\"12pt\"},\"id\":\"5177\",\"type\":\"Title\"},{\"attributes\":{\"children\":[{\"id\":\"5168\"},{\"id\":\"5176\"}],\"margin\":[0,0,0,0],\"name\":\"Column09735\"},\"id\":\"5167\",\"type\":\"Column\"},{\"attributes\":{\"tools\":[{\"id\":\"5175\"},{\"id\":\"5192\"},{\"id\":\"5193\"},{\"id\":\"5194\"},{\"id\":\"5195\"},{\"id\":\"5196\"}]},\"id\":\"5198\",\"type\":\"Toolbar\"},{\"attributes\":{},\"id\":\"5193\",\"type\":\"PanTool\"},{\"attributes\":{},\"id\":\"5196\",\"type\":\"ResetTool\"},{\"attributes\":{},\"id\":\"5186\",\"type\":\"CategoricalTicker\"},{\"attributes\":{\"factors\":[\"Bug\",\"Dark\",\"Dragon\",\"Electric\",\"Fairy\",\"Fighting\",\"Fire\",\"Flying\",\"Ghost\",\"Grass\",\"Ground\",\"Ice\",\"Normal\",\"Poison\",\"Psychic\",\"Rock\",\"Steel\",\"Water\"],\"tags\":[[[\"Type 1\",\"Type 1\",null]]]},\"id\":\"5173\",\"type\":\"FactorRange\"},{\"attributes\":{\"end\":86.00333333333333,\"reset_end\":86.00333333333333,\"reset_start\":28.36333333333333,\"start\":28.36333333333333,\"tags\":[[[\"Speed\",\"Speed\",null]]]},\"id\":\"5174\",\"type\":\"Range1d\"},{\"attributes\":{},\"id\":\"5189\",\"type\":\"BasicTicker\"},{\"attributes\":{\"callback\":null,\"renderers\":[{\"id\":\"5211\"}],\"tags\":[\"hv_created\"],\"tooltips\":[[\"Type 1\",\"@{Type_1}\"],[\"Speed\",\"@{Speed}\"]]},\"id\":\"5175\",\"type\":\"HoverTool\"},{\"attributes\":{\"client_comm_id\":\"ac8ef14154074c40bb0ed8ef732cc2df\",\"comm_id\":\"fc9fd3dc0b5442f9ab4b6504d6a36c3f\",\"plot_id\":\"5166\"},\"id\":\"5260\",\"type\":\"panel.models.comm_manager.CommManager\"},{\"attributes\":{\"line_alpha\":0.1,\"line_color\":\"#30a2da\",\"line_width\":2,\"x\":{\"field\":\"Type 1\"},\"y\":{\"field\":\"Speed\"}},\"id\":\"5209\",\"type\":\"Line\"},{\"attributes\":{},\"id\":\"5194\",\"type\":\"WheelZoomTool\"},{\"attributes\":{\"axis\":{\"id\":\"5185\"},\"coordinates\":null,\"grid_line_color\":null,\"group\":null,\"ticker\":null},\"id\":\"5187\",\"type\":\"Grid\"},{\"attributes\":{\"overlay\":{\"id\":\"5197\"}},\"id\":\"5195\",\"type\":\"BoxZoomTool\"},{\"attributes\":{\"children\":[{\"id\":\"5167\"}],\"margin\":[0,0,0,0],\"name\":\"Row09736\"},\"id\":\"5166\",\"type\":\"Row\"},{\"attributes\":{\"end\":300,\"margin\":[5,10,5,10],\"start\":10,\"step\":3,\"title\":\"HP slider\",\"value\":61},\"id\":\"5170\",\"type\":\"Slider\"},{\"attributes\":{\"below\":[{\"id\":\"5185\"}],\"center\":[{\"id\":\"5187\"},{\"id\":\"5191\"}],\"height\":300,\"left\":[{\"id\":\"5188\"}],\"margin\":[5,5,5,5],\"min_border_bottom\":10,\"min_border_left\":10,\"min_border_right\":10,\"min_border_top\":10,\"renderers\":[{\"id\":\"5211\"}],\"sizing_mode\":\"fixed\",\"title\":{\"id\":\"5177\"},\"toolbar\":{\"id\":\"5198\"},\"width\":700,\"x_range\":{\"id\":\"5173\"},\"x_scale\":{\"id\":\"5181\"},\"y_range\":{\"id\":\"5174\"},\"y_scale\":{\"id\":\"5183\"}},\"id\":\"5176\",\"subtype\":\"Figure\",\"type\":\"Plot\"},{\"attributes\":{},\"id\":\"5216\",\"type\":\"AllLabels\"},{\"attributes\":{\"children\":[{\"id\":\"5169\"},{\"id\":\"5172\"}],\"margin\":[0,0,0,0],\"name\":\"Row09729\"},\"id\":\"5168\",\"type\":\"Row\"},{\"attributes\":{\"bottom_units\":\"screen\",\"coordinates\":null,\"fill_alpha\":0.5,\"fill_color\":\"lightgrey\",\"group\":null,\"left_units\":\"screen\",\"level\":\"overlay\",\"line_alpha\":1.0,\"line_color\":\"black\",\"line_dash\":[4,4],\"line_width\":2,\"right_units\":\"screen\",\"syncable\":false,\"top_units\":\"screen\"},\"id\":\"5197\",\"type\":\"BoxAnnotation\"},{\"attributes\":{\"source\":{\"id\":\"5205\"}},\"id\":\"5212\",\"type\":\"CDSView\"},{\"attributes\":{\"line_color\":\"#30a2da\",\"line_width\":2,\"x\":{\"field\":\"Type 1\"},\"y\":{\"field\":\"Speed\"}},\"id\":\"5213\",\"type\":\"Line\"},{\"attributes\":{},\"id\":\"5181\",\"type\":\"CategoricalScale\"},{\"attributes\":{},\"id\":\"5227\",\"type\":\"UnionRenderers\"},{\"attributes\":{\"children\":[{\"id\":\"5170\"},{\"id\":\"5171\"}],\"margin\":[0,0,0,0],\"name\":\"Column09724\"},\"id\":\"5169\",\"type\":\"Column\"},{\"attributes\":{},\"id\":\"5192\",\"type\":\"SaveTool\"},{\"attributes\":{\"axis\":{\"id\":\"5188\"},\"coordinates\":null,\"dimension\":1,\"grid_line_color\":null,\"group\":null,\"ticker\":null},\"id\":\"5191\",\"type\":\"Grid\"},{\"attributes\":{},\"id\":\"5183\",\"type\":\"LinearScale\"},{\"attributes\":{\"axis_label\":\"Type 1\",\"coordinates\":null,\"formatter\":{\"id\":\"5215\"},\"group\":null,\"major_label_policy\":{\"id\":\"5216\"},\"ticker\":{\"id\":\"5186\"}},\"id\":\"5185\",\"type\":\"CategoricalAxis\"},{\"attributes\":{\"line_alpha\":0.2,\"line_color\":\"#30a2da\",\"line_width\":2,\"x\":{\"field\":\"Type 1\"},\"y\":{\"field\":\"Speed\"}},\"id\":\"5210\",\"type\":\"Line\"},{\"attributes\":{\"data\":{\"Speed\":{\"__ndarray__\":\"LFG7ErUrSEAndmInduJOQAAAAAAAwElAzczMzMxMVEBVVVVVVZVAQDMzMzMzk1FAAAAAAAAwTkAAAAAAAIBLQKOLLrroIk5AAAAAAACISkBP7MRO7EROQAAAAAAAsElA8lk3mCKfT0BddNFFF91KQEYXXXTRBVRAmpmZmZmZR0De3d3d3V1HQF100UUX3U1A\",\"dtype\":\"float64\",\"order\":\"little\",\"shape\":[18]},\"Type 1\":[\"Bug\",\"Dark\",\"Dragon\",\"Electric\",\"Fairy\",\"Fighting\",\"Fire\",\"Flying\",\"Ghost\",\"Grass\",\"Ground\",\"Ice\",\"Normal\",\"Poison\",\"Psychic\",\"Rock\",\"Steel\",\"Water\"],\"Type_1\":[\"Bug\",\"Dark\",\"Dragon\",\"Electric\",\"Fairy\",\"Fighting\",\"Fire\",\"Flying\",\"Ghost\",\"Grass\",\"Ground\",\"Ice\",\"Normal\",\"Poison\",\"Psychic\",\"Rock\",\"Steel\",\"Water\"]},\"selected\":{\"id\":\"5206\"},\"selection_policy\":{\"id\":\"5227\"}},\"id\":\"5205\",\"type\":\"ColumnDataSource\"},{\"attributes\":{\"axis_label\":\"Speed\",\"coordinates\":null,\"formatter\":{\"id\":\"5218\"},\"group\":null,\"major_label_policy\":{\"id\":\"5219\"},\"ticker\":{\"id\":\"5189\"}},\"id\":\"5188\",\"type\":\"LinearAxis\"}],\"root_ids\":[\"5166\",\"5260\"]},\"title\":\"Bokeh Application\",\"version\":\"2.4.3\"}};\n",
       "    var render_items = [{\"docid\":\"9d11bb93-c9fc-4de7-bc7c-f2021b1bbd0a\",\"root_ids\":[\"5166\"],\"roots\":{\"5166\":\"5e59f7bb-1ccb-4f89-8fa8-de8ce53270ac\"}}];\n",
       "    root.Bokeh.embed.embed_items_notebook(docs_json, render_items);\n",
       "  }\n",
       "  if (root.Bokeh !== undefined && root.Bokeh.Panel !== undefined && ( root['Tabulator'] !== undefined) && ( root['Tabulator'] !== undefined) && ( root['Tabulator'] !== undefined) && ( root['Tabulator'] !== undefined)) {\n",
       "    embed_document(root);\n",
       "  } else {\n",
       "    var attempts = 0;\n",
       "    var timer = setInterval(function(root) {\n",
       "      if (root.Bokeh !== undefined && root.Bokeh.Panel !== undefined && (root['Tabulator'] !== undefined) && (root['Tabulator'] !== undefined) && (root['Tabulator'] !== undefined) && (root['Tabulator'] !== undefined)) {\n",
       "        clearInterval(timer);\n",
       "        embed_document(root);\n",
       "      } else if (document.readyState == \"complete\") {\n",
       "        attempts++;\n",
       "        if (attempts > 200) {\n",
       "          clearInterval(timer);\n",
       "          console.log(\"Bokeh: ERROR: Unable to run BokehJS code because BokehJS library is missing\");\n",
       "        }\n",
       "      }\n",
       "    }, 25, root)\n",
       "  }\n",
       "})(window);</script>"
      ],
      "text/plain": [
       "<hvplot.interactive.Interactive at 0x27bf65ccca0>"
      ]
     },
     "execution_count": 37,
     "metadata": {
      "application/vnd.holoviews_exec.v0+json": {
       "id": "5166"
      }
     },
     "output_type": "execute_result"
    }
   ],
   "source": [
    "pokemon_plot = co2_pipeline.hvplot(x = 'Type 1', y=yaxis_co2,line_width=2, title=\"Speed, Defense value depending on HP\")\n",
    "pokemon_plot"
   ]
  },
  {
   "cell_type": "code",
   "execution_count": 38,
   "id": "59b3b72f",
   "metadata": {},
   "outputs": [
    {
     "data": {},
     "metadata": {},
     "output_type": "display_data"
    },
    {
     "data": {
      "application/vnd.holoviews_exec.v0+json": "",
      "text/html": [
       "<div id='5311'>\n",
       "  <div class=\"bk-root\" id=\"9ee6750a-8baa-496e-8583-9cddee13a4a7\" data-root-id=\"5311\"></div>\n",
       "</div>\n",
       "<script type=\"application/javascript\">(function(root) {\n",
       "  function embed_document(root) {\n",
       "    var docs_json = {\"4402d88a-23b1-4974-92f2-5cd5dda96f71\":{\"defs\":[{\"extends\":null,\"module\":null,\"name\":\"ReactiveHTML1\",\"overrides\":[],\"properties\":[]},{\"extends\":null,\"module\":null,\"name\":\"FlexBox1\",\"overrides\":[],\"properties\":[{\"default\":\"flex-start\",\"kind\":null,\"name\":\"align_content\"},{\"default\":\"flex-start\",\"kind\":null,\"name\":\"align_items\"},{\"default\":\"row\",\"kind\":null,\"name\":\"flex_direction\"},{\"default\":\"wrap\",\"kind\":null,\"name\":\"flex_wrap\"},{\"default\":\"flex-start\",\"kind\":null,\"name\":\"justify_content\"}]},{\"extends\":null,\"module\":null,\"name\":\"GridStack1\",\"overrides\":[],\"properties\":[{\"default\":\"warn\",\"kind\":null,\"name\":\"mode\"},{\"default\":null,\"kind\":null,\"name\":\"ncols\"},{\"default\":null,\"kind\":null,\"name\":\"nrows\"},{\"default\":true,\"kind\":null,\"name\":\"allow_resize\"},{\"default\":true,\"kind\":null,\"name\":\"allow_drag\"},{\"default\":[],\"kind\":null,\"name\":\"state\"}]},{\"extends\":null,\"module\":null,\"name\":\"click1\",\"overrides\":[],\"properties\":[{\"default\":\"\",\"kind\":null,\"name\":\"terminal_output\"},{\"default\":\"\",\"kind\":null,\"name\":\"debug_name\"},{\"default\":0,\"kind\":null,\"name\":\"clears\"}]},{\"extends\":null,\"module\":null,\"name\":\"NotificationAreaBase1\",\"overrides\":[],\"properties\":[{\"default\":\"bottom-right\",\"kind\":null,\"name\":\"position\"},{\"default\":0,\"kind\":null,\"name\":\"_clear\"}]},{\"extends\":null,\"module\":null,\"name\":\"NotificationArea1\",\"overrides\":[],\"properties\":[{\"default\":[],\"kind\":null,\"name\":\"notifications\"},{\"default\":\"bottom-right\",\"kind\":null,\"name\":\"position\"},{\"default\":0,\"kind\":null,\"name\":\"_clear\"},{\"default\":[{\"background\":\"#ffc107\",\"icon\":{\"className\":\"fas fa-exclamation-triangle\",\"color\":\"white\",\"tagName\":\"i\"},\"type\":\"warning\"},{\"background\":\"#007bff\",\"icon\":{\"className\":\"fas fa-info-circle\",\"color\":\"white\",\"tagName\":\"i\"},\"type\":\"info\"}],\"kind\":null,\"name\":\"types\"}]},{\"extends\":null,\"module\":null,\"name\":\"Notification\",\"overrides\":[],\"properties\":[{\"default\":null,\"kind\":null,\"name\":\"background\"},{\"default\":3000,\"kind\":null,\"name\":\"duration\"},{\"default\":null,\"kind\":null,\"name\":\"icon\"},{\"default\":\"\",\"kind\":null,\"name\":\"message\"},{\"default\":null,\"kind\":null,\"name\":\"notification_type\"},{\"default\":false,\"kind\":null,\"name\":\"_destroyed\"}]},{\"extends\":null,\"module\":null,\"name\":\"TemplateActions1\",\"overrides\":[],\"properties\":[{\"default\":0,\"kind\":null,\"name\":\"open_modal\"},{\"default\":0,\"kind\":null,\"name\":\"close_modal\"}]},{\"extends\":null,\"module\":null,\"name\":\"MaterialTemplateActions1\",\"overrides\":[],\"properties\":[{\"default\":0,\"kind\":null,\"name\":\"open_modal\"},{\"default\":0,\"kind\":null,\"name\":\"close_modal\"}]}],\"roots\":{\"references\":[{\"attributes\":{\"children\":[{\"id\":\"5312\"}],\"margin\":[0,0,0,0],\"name\":\"Row09958\"},\"id\":\"5311\",\"type\":\"Row\"},{\"attributes\":{},\"id\":\"5323\",\"type\":\"CellEditor\"},{\"attributes\":{\"margin\":[5,5,5,5],\"name\":\"HSpacer09955\",\"sizing_mode\":\"stretch_width\"},\"id\":\"5317\",\"type\":\"Spacer\"},{\"attributes\":{\"children\":[{\"id\":\"5314\"},{\"id\":\"5317\"}],\"margin\":[0,0,0,0],\"name\":\"Row09956\"},\"id\":\"5313\",\"type\":\"Row\"},{\"attributes\":{\"text_align\":\"left\"},\"id\":\"5321\",\"type\":\"NumberFormatter\"},{\"attributes\":{\"children\":[{\"id\":\"5313\"},{\"id\":\"5318\"}],\"margin\":[0,0,0,0],\"name\":\"Column09957\"},\"id\":\"5312\",\"type\":\"Column\"},{\"attributes\":{\"data\":{\"Speed\":{\"__ndarray__\":\"LFG7ErUrSEAndmInduJOQAAAAAAAwElAzczMzMxMVEBVVVVVVZVAQDMzMzMzk1FAAAAAAAAwTkAAAAAAAIBLQKOLLrroIk5AAAAAAACISkA=\",\"dtype\":\"float64\",\"order\":\"little\",\"shape\":[10]},\"Type 1\":[\"Bug\",\"Dark\",\"Dragon\",\"Electric\",\"Fairy\",\"Fighting\",\"Fire\",\"Flying\",\"Ghost\",\"Grass\"],\"index\":[0,1,2,3,4,5,6,7,8,9]},\"selected\":{\"id\":\"5320\"},\"selection_policy\":{\"id\":\"5339\"}},\"id\":\"5319\",\"type\":\"ColumnDataSource\"},{\"attributes\":{},\"id\":\"5333\",\"type\":\"NumberEditor\"},{\"attributes\":{\"columns\":[{\"id\":\"5324\"},{\"id\":\"5329\"},{\"id\":\"5334\"}],\"configuration\":{\"columns\":[{\"field\":\"index\"},{\"field\":\"Type 1\"},{\"field\":\"Speed\"}],\"dataTree\":false,\"selectable\":true},\"indexes\":[\"index\"],\"layout\":\"fit_data_table\",\"margin\":[5,10,5,10],\"max_page\":2,\"name\":\"\",\"page\":1,\"page_size\":10,\"pagination\":\"remote\",\"select_mode\":true,\"selectable_rows\":null,\"sizing_mode\":\"stretch_width\",\"source\":{\"id\":\"5319\"},\"styles\":{\"data\":{},\"id\":\"3cb0b52b11b14fb7b56eb891ae151e8d\"},\"subscribed_events\":[\"table-edit\",\"cell-click\"]},\"id\":\"5337\",\"type\":\"panel.models.tabulator.DataTabulator\"},{\"attributes\":{\"children\":[{\"id\":\"5315\"},{\"id\":\"5316\"}],\"margin\":[0,0,0,0],\"name\":\"Column09926\"},\"id\":\"5314\",\"type\":\"Column\"},{\"attributes\":{},\"id\":\"5328\",\"type\":\"StringEditor\"},{\"attributes\":{\"children\":[{\"id\":\"5337\"}],\"margin\":[0,0,0,0],\"name\":\"Row09931\"},\"id\":\"5318\",\"type\":\"Row\"},{\"attributes\":{\"client_comm_id\":\"044afddbb8d748e58fb02198c19ae54a\",\"comm_id\":\"fff97fb9c715429a81cc98a7be215a01\",\"plot_id\":\"5311\"},\"id\":\"5345\",\"type\":\"panel.models.comm_manager.CommManager\"},{\"attributes\":{},\"id\":\"5339\",\"type\":\"UnionRenderers\"},{\"attributes\":{\"active\":0,\"button_type\":\"success\",\"labels\":[\"Speed\",\"Defense\"],\"margin\":[5,10,5,10]},\"id\":\"5316\",\"type\":\"RadioButtonGroup\"},{\"attributes\":{},\"id\":\"5327\",\"type\":\"StringFormatter\"},{\"attributes\":{\"editor\":{\"id\":\"5323\"},\"field\":\"index\",\"formatter\":{\"id\":\"5321\"},\"title\":\"index\",\"width\":0},\"id\":\"5324\",\"type\":\"TableColumn\"},{\"attributes\":{\"editor\":{\"id\":\"5328\"},\"field\":\"Type 1\",\"formatter\":{\"id\":\"5327\"},\"title\":\"Type 1\",\"width\":0},\"id\":\"5329\",\"type\":\"TableColumn\"},{\"attributes\":{\"editor\":{\"id\":\"5333\"},\"field\":\"Speed\",\"formatter\":{\"id\":\"5332\"},\"title\":\"Speed\",\"width\":0},\"id\":\"5334\",\"type\":\"TableColumn\"},{\"attributes\":{\"end\":300,\"margin\":[5,10,5,10],\"start\":10,\"step\":3,\"title\":\"HP slider\",\"value\":61},\"id\":\"5315\",\"type\":\"Slider\"},{\"attributes\":{\"indices\":[]},\"id\":\"5320\",\"type\":\"Selection\"},{\"attributes\":{\"format\":\"0,0.0[00000]\",\"text_align\":\"right\"},\"id\":\"5332\",\"type\":\"NumberFormatter\"}],\"root_ids\":[\"5311\",\"5345\"]},\"title\":\"Bokeh Application\",\"version\":\"2.4.3\"}};\n",
       "    var render_items = [{\"docid\":\"4402d88a-23b1-4974-92f2-5cd5dda96f71\",\"root_ids\":[\"5311\"],\"roots\":{\"5311\":\"9ee6750a-8baa-496e-8583-9cddee13a4a7\"}}];\n",
       "    root.Bokeh.embed.embed_items_notebook(docs_json, render_items);\n",
       "  }\n",
       "  if (root.Bokeh !== undefined && root.Bokeh.Panel !== undefined && ( root['Tabulator'] !== undefined) && ( root['Tabulator'] !== undefined) && ( root['Tabulator'] !== undefined) && ( root['Tabulator'] !== undefined)) {\n",
       "    embed_document(root);\n",
       "  } else {\n",
       "    var attempts = 0;\n",
       "    var timer = setInterval(function(root) {\n",
       "      if (root.Bokeh !== undefined && root.Bokeh.Panel !== undefined && (root['Tabulator'] !== undefined) && (root['Tabulator'] !== undefined) && (root['Tabulator'] !== undefined) && (root['Tabulator'] !== undefined)) {\n",
       "        clearInterval(timer);\n",
       "        embed_document(root);\n",
       "      } else if (document.readyState == \"complete\") {\n",
       "        attempts++;\n",
       "        if (attempts > 200) {\n",
       "          clearInterval(timer);\n",
       "          console.log(\"Bokeh: ERROR: Unable to run BokehJS code because BokehJS library is missing\");\n",
       "        }\n",
       "      }\n",
       "    }, 25, root)\n",
       "  }\n",
       "})(window);</script>"
      ],
      "text/plain": [
       "<hvplot.interactive.Interactive at 0x27bf6779f30>"
      ]
     },
     "execution_count": 38,
     "metadata": {
      "application/vnd.holoviews_exec.v0+json": {
       "id": "5311"
      }
     },
     "output_type": "execute_result"
    }
   ],
   "source": [
    "pokemon_table = co2_pipeline.pipe(pn.widgets.Tabulator, pagination='remote', page_size = 10, sizing_mode='stretch_width') \n",
    "pokemon_table"
   ]
  },
  {
   "cell_type": "code",
   "execution_count": 39,
   "id": "fea16909",
   "metadata": {},
   "outputs": [
    {
     "data": {
      "text/plain": [
       "array(['Grass', 'Fire', 'Water', 'Bug', 'Normal', 'Poison', 'Electric',\n",
       "       'Ground', 'Fairy', 'Fighting', 'Psychic', 'Rock', 'Ghost', 'Ice',\n",
       "       'Dragon', 'Dark', 'Steel', 'Flying'], dtype=object)"
      ]
     },
     "execution_count": 39,
     "metadata": {},
     "output_type": "execute_result"
    }
   ],
   "source": [
    "df['Type 1'].unique()"
   ]
  },
  {
   "cell_type": "code",
   "execution_count": 40,
   "id": "dd746883",
   "metadata": {},
   "outputs": [
    {
     "data": {
      "text/plain": [
       "18"
      ]
     },
     "execution_count": 40,
     "metadata": {},
     "output_type": "execute_result"
    }
   ],
   "source": [
    "df['Type 1'].nunique()"
   ]
  },
  {
   "cell_type": "code",
   "execution_count": 41,
   "id": "eb334b5c",
   "metadata": {},
   "outputs": [
    {
     "data": {},
     "metadata": {},
     "output_type": "display_data"
    },
    {
     "data": {
      "application/vnd.holoviews_exec.v0+json": "",
      "text/html": [
       "<div id='5356'>\n",
       "  <div class=\"bk-root\" id=\"9f19b4f5-6736-4a2c-b249-e74aaf3fac40\" data-root-id=\"5356\"></div>\n",
       "</div>\n",
       "<script type=\"application/javascript\">(function(root) {\n",
       "  function embed_document(root) {\n",
       "    var docs_json = {\"098b985d-daa0-4a04-8a1c-a27c7784e36c\":{\"defs\":[{\"extends\":null,\"module\":null,\"name\":\"ReactiveHTML1\",\"overrides\":[],\"properties\":[]},{\"extends\":null,\"module\":null,\"name\":\"FlexBox1\",\"overrides\":[],\"properties\":[{\"default\":\"flex-start\",\"kind\":null,\"name\":\"align_content\"},{\"default\":\"flex-start\",\"kind\":null,\"name\":\"align_items\"},{\"default\":\"row\",\"kind\":null,\"name\":\"flex_direction\"},{\"default\":\"wrap\",\"kind\":null,\"name\":\"flex_wrap\"},{\"default\":\"flex-start\",\"kind\":null,\"name\":\"justify_content\"}]},{\"extends\":null,\"module\":null,\"name\":\"GridStack1\",\"overrides\":[],\"properties\":[{\"default\":\"warn\",\"kind\":null,\"name\":\"mode\"},{\"default\":null,\"kind\":null,\"name\":\"ncols\"},{\"default\":null,\"kind\":null,\"name\":\"nrows\"},{\"default\":true,\"kind\":null,\"name\":\"allow_resize\"},{\"default\":true,\"kind\":null,\"name\":\"allow_drag\"},{\"default\":[],\"kind\":null,\"name\":\"state\"}]},{\"extends\":null,\"module\":null,\"name\":\"click1\",\"overrides\":[],\"properties\":[{\"default\":\"\",\"kind\":null,\"name\":\"terminal_output\"},{\"default\":\"\",\"kind\":null,\"name\":\"debug_name\"},{\"default\":0,\"kind\":null,\"name\":\"clears\"}]},{\"extends\":null,\"module\":null,\"name\":\"NotificationAreaBase1\",\"overrides\":[],\"properties\":[{\"default\":\"bottom-right\",\"kind\":null,\"name\":\"position\"},{\"default\":0,\"kind\":null,\"name\":\"_clear\"}]},{\"extends\":null,\"module\":null,\"name\":\"NotificationArea1\",\"overrides\":[],\"properties\":[{\"default\":[],\"kind\":null,\"name\":\"notifications\"},{\"default\":\"bottom-right\",\"kind\":null,\"name\":\"position\"},{\"default\":0,\"kind\":null,\"name\":\"_clear\"},{\"default\":[{\"background\":\"#ffc107\",\"icon\":{\"className\":\"fas fa-exclamation-triangle\",\"color\":\"white\",\"tagName\":\"i\"},\"type\":\"warning\"},{\"background\":\"#007bff\",\"icon\":{\"className\":\"fas fa-info-circle\",\"color\":\"white\",\"tagName\":\"i\"},\"type\":\"info\"}],\"kind\":null,\"name\":\"types\"}]},{\"extends\":null,\"module\":null,\"name\":\"Notification\",\"overrides\":[],\"properties\":[{\"default\":null,\"kind\":null,\"name\":\"background\"},{\"default\":3000,\"kind\":null,\"name\":\"duration\"},{\"default\":null,\"kind\":null,\"name\":\"icon\"},{\"default\":\"\",\"kind\":null,\"name\":\"message\"},{\"default\":null,\"kind\":null,\"name\":\"notification_type\"},{\"default\":false,\"kind\":null,\"name\":\"_destroyed\"}]},{\"extends\":null,\"module\":null,\"name\":\"TemplateActions1\",\"overrides\":[],\"properties\":[{\"default\":0,\"kind\":null,\"name\":\"open_modal\"},{\"default\":0,\"kind\":null,\"name\":\"close_modal\"}]},{\"extends\":null,\"module\":null,\"name\":\"MaterialTemplateActions1\",\"overrides\":[],\"properties\":[{\"default\":0,\"kind\":null,\"name\":\"open_modal\"},{\"default\":0,\"kind\":null,\"name\":\"close_modal\"}]}],\"roots\":{\"references\":[{\"attributes\":{\"children\":[{\"id\":\"5358\"},{\"id\":\"5362\"}],\"margin\":[0,0,0,0],\"name\":\"Column10771\"},\"id\":\"5357\",\"type\":\"Column\"},{\"attributes\":{\"children\":[{\"id\":\"5363\"}],\"margin\":[0,0,0,0],\"name\":\"Row10741\"},\"id\":\"5362\",\"type\":\"Row\"},{\"attributes\":{\"client_comm_id\":\"2ace45fe58df4e238535f442b5ea3460\",\"comm_id\":\"be02e23116bb4cbfb0fecc7e4c6e98ee\",\"plot_id\":\"5356\"},\"id\":\"5364\",\"type\":\"panel.models.comm_manager.CommManager\"},{\"attributes\":{\"children\":[{\"id\":\"5359\"},{\"id\":\"5361\"}],\"margin\":[0,0,0,0],\"name\":\"Row10770\"},\"id\":\"5358\",\"type\":\"Row\"},{\"attributes\":{\"children\":[{\"id\":\"5360\"}],\"margin\":[0,0,0,0],\"name\":\"Column10736\"},\"id\":\"5359\",\"type\":\"Column\"},{\"attributes\":{\"children\":[{\"id\":\"5357\"}],\"margin\":[0,0,0,0],\"name\":\"Row10772\"},\"id\":\"5356\",\"type\":\"Row\"},{\"attributes\":{\"margin\":[5,5,5,5],\"name\":\"HSpacer10769\",\"sizing_mode\":\"stretch_width\"},\"id\":\"5361\",\"type\":\"Spacer\"},{\"attributes\":{\"end\":300,\"margin\":[5,10,5,10],\"start\":10,\"step\":3,\"title\":\"HP slider\",\"value\":100},\"id\":\"5360\",\"type\":\"Slider\"},{\"attributes\":{\"margin\":[5,5,5,5],\"name\":\"DataFrame10767\",\"text\":\"&lt;table border=&quot;0&quot; class=&quot;dataframe panel-df&quot;&gt;\\n  &lt;thead&gt;\\n    &lt;tr style=&quot;text-align: right;&quot;&gt;\\n      &lt;th&gt;&lt;/th&gt;\\n      &lt;th&gt;Type 1&lt;/th&gt;\\n      &lt;th&gt;Attack&lt;/th&gt;\\n      &lt;th&gt;Speed&lt;/th&gt;\\n      &lt;th&gt;Defense&lt;/th&gt;\\n    &lt;/tr&gt;\\n  &lt;/thead&gt;\\n  &lt;tbody&gt;\\n    &lt;tr&gt;\\n      &lt;th&gt;0&lt;/th&gt;\\n      &lt;td&gt;Normal&lt;/td&gt;\\n      &lt;td&gt;5.0&lt;/td&gt;\\n      &lt;td&gt;30&lt;/td&gt;\\n      &lt;td&gt;5.0&lt;/td&gt;\\n    &lt;/tr&gt;\\n    &lt;tr&gt;\\n      &lt;th&gt;1&lt;/th&gt;\\n      &lt;td&gt;Normal&lt;/td&gt;\\n      &lt;td&gt;50.0&lt;/td&gt;\\n      &lt;td&gt;70&lt;/td&gt;\\n      &lt;td&gt;50.0&lt;/td&gt;\\n    &lt;/tr&gt;\\n    &lt;tr&gt;\\n      &lt;th&gt;2&lt;/th&gt;\\n      &lt;td&gt;Water&lt;/td&gt;\\n      &lt;td&gt;50.0&lt;/td&gt;\\n      &lt;td&gt;50&lt;/td&gt;\\n      &lt;td&gt;80.0&lt;/td&gt;\\n    &lt;/tr&gt;\\n    &lt;tr&gt;\\n      &lt;th&gt;3&lt;/th&gt;\\n      &lt;td&gt;Water&lt;/td&gt;\\n      &lt;td&gt;60.0&lt;/td&gt;\\n      &lt;td&gt;60&lt;/td&gt;\\n      &lt;td&gt;70.0&lt;/td&gt;\\n    &lt;/tr&gt;\\n    &lt;tr&gt;\\n      &lt;th&gt;4&lt;/th&gt;\\n      &lt;td&gt;Normal&lt;/td&gt;\\n      &lt;td&gt;70.0&lt;/td&gt;\\n      &lt;td&gt;45&lt;/td&gt;\\n      &lt;td&gt;70.0&lt;/td&gt;\\n    &lt;/tr&gt;\\n    &lt;tr&gt;\\n      &lt;th&gt;5&lt;/th&gt;\\n      &lt;td&gt;Poison&lt;/td&gt;\\n      &lt;td&gt;73.0&lt;/td&gt;\\n      &lt;td&gt;55&lt;/td&gt;\\n      &lt;td&gt;83.0&lt;/td&gt;\\n    &lt;/tr&gt;\\n    &lt;tr&gt;\\n      &lt;th&gt;6&lt;/th&gt;\\n      &lt;td&gt;Water&lt;/td&gt;\\n      &lt;td&gt;75.0&lt;/td&gt;\\n      &lt;td&gt;85&lt;/td&gt;\\n      &lt;td&gt;115.0&lt;/td&gt;\\n    &lt;/tr&gt;\\n    &lt;tr&gt;\\n      &lt;th&gt;7&lt;/th&gt;\\n      &lt;td&gt;Normal&lt;/td&gt;\\n      &lt;td&gt;77.0&lt;/td&gt;\\n      &lt;td&gt;90&lt;/td&gt;\\n      &lt;td&gt;77.0&lt;/td&gt;\\n    &lt;/tr&gt;\\n    &lt;tr&gt;\\n      &lt;th&gt;8&lt;/th&gt;\\n      &lt;td&gt;Water&lt;/td&gt;\\n      &lt;td&gt;90.0&lt;/td&gt;\\n      &lt;td&gt;55&lt;/td&gt;\\n      &lt;td&gt;130.0&lt;/td&gt;\\n    &lt;/tr&gt;\\n    &lt;tr&gt;\\n      &lt;th&gt;9&lt;/th&gt;\\n      &lt;td&gt;Water&lt;/td&gt;\\n      &lt;td&gt;100.0&lt;/td&gt;\\n      &lt;td&gt;100&lt;/td&gt;\\n      &lt;td&gt;100.0&lt;/td&gt;\\n    &lt;/tr&gt;\\n    &lt;tr&gt;\\n      &lt;th&gt;10&lt;/th&gt;\\n      &lt;td&gt;Water&lt;/td&gt;\\n      &lt;td&gt;100.0&lt;/td&gt;\\n      &lt;td&gt;90&lt;/td&gt;\\n      &lt;td&gt;90.0&lt;/td&gt;\\n    &lt;/tr&gt;\\n    &lt;tr&gt;\\n      &lt;th&gt;11&lt;/th&gt;\\n      &lt;td&gt;Ice&lt;/td&gt;\\n      &lt;td&gt;100.0&lt;/td&gt;\\n      &lt;td&gt;50&lt;/td&gt;\\n      &lt;td&gt;80.0&lt;/td&gt;\\n    &lt;/tr&gt;\\n    &lt;tr&gt;\\n      &lt;th&gt;12&lt;/th&gt;\\n      &lt;td&gt;Psychic&lt;/td&gt;\\n      &lt;td&gt;100.0&lt;/td&gt;\\n      &lt;td&gt;100&lt;/td&gt;\\n      &lt;td&gt;100.0&lt;/td&gt;\\n    &lt;/tr&gt;\\n    &lt;tr&gt;\\n      &lt;th&gt;13&lt;/th&gt;\\n      &lt;td&gt;Water&lt;/td&gt;\\n      &lt;td&gt;110.0&lt;/td&gt;\\n      &lt;td&gt;60&lt;/td&gt;\\n      &lt;td&gt;90.0&lt;/td&gt;\\n    &lt;/tr&gt;\\n    &lt;tr&gt;\\n      &lt;th&gt;14&lt;/th&gt;\\n      &lt;td&gt;Dragon&lt;/td&gt;\\n      &lt;td&gt;120.0&lt;/td&gt;\\n      &lt;td&gt;90&lt;/td&gt;\\n      &lt;td&gt;100.0&lt;/td&gt;\\n    &lt;/tr&gt;\\n    &lt;tr&gt;\\n      &lt;th&gt;15&lt;/th&gt;\\n      &lt;td&gt;Normal&lt;/td&gt;\\n      &lt;td&gt;123.0&lt;/td&gt;\\n      &lt;td&gt;80&lt;/td&gt;\\n      &lt;td&gt;75.0&lt;/td&gt;\\n    &lt;/tr&gt;\\n    &lt;tr&gt;\\n      &lt;th&gt;16&lt;/th&gt;\\n      &lt;td&gt;Dark&lt;/td&gt;\\n      &lt;td&gt;125.0&lt;/td&gt;\\n      &lt;td&gt;71&lt;/td&gt;\\n      &lt;td&gt;52.0&lt;/td&gt;\\n    &lt;/tr&gt;\\n    &lt;tr&gt;\\n      &lt;th&gt;17&lt;/th&gt;\\n      &lt;td&gt;Normal&lt;/td&gt;\\n      &lt;td&gt;128.0&lt;/td&gt;\\n      &lt;td&gt;128&lt;/td&gt;\\n      &lt;td&gt;90.0&lt;/td&gt;\\n    &lt;/tr&gt;\\n    &lt;tr&gt;\\n      &lt;th&gt;18&lt;/th&gt;\\n      &lt;td&gt;Rock&lt;/td&gt;\\n      &lt;td&gt;134.0&lt;/td&gt;\\n      &lt;td&gt;61&lt;/td&gt;\\n      &lt;td&gt;110.0&lt;/td&gt;\\n    &lt;/tr&gt;\\n    &lt;tr&gt;\\n      &lt;th&gt;19&lt;/th&gt;\\n      &lt;td&gt;Water&lt;/td&gt;\\n      &lt;td&gt;150.0&lt;/td&gt;\\n      &lt;td&gt;70&lt;/td&gt;\\n      &lt;td&gt;110.0&lt;/td&gt;\\n    &lt;/tr&gt;\\n    &lt;tr&gt;\\n      &lt;th&gt;20&lt;/th&gt;\\n      &lt;td&gt;Ground&lt;/td&gt;\\n      &lt;td&gt;150.0&lt;/td&gt;\\n      &lt;td&gt;90&lt;/td&gt;\\n      &lt;td&gt;140.0&lt;/td&gt;\\n    &lt;/tr&gt;\\n    &lt;tr&gt;\\n      &lt;th&gt;21&lt;/th&gt;\\n      &lt;td&gt;Dragon&lt;/td&gt;\\n      &lt;td&gt;150.0&lt;/td&gt;\\n      &lt;td&gt;90&lt;/td&gt;\\n      &lt;td&gt;120.0&lt;/td&gt;\\n    &lt;/tr&gt;\\n    &lt;tr&gt;\\n      &lt;th&gt;22&lt;/th&gt;\\n      &lt;td&gt;Water&lt;/td&gt;\\n      &lt;td&gt;150.0&lt;/td&gt;\\n      &lt;td&gt;90&lt;/td&gt;\\n      &lt;td&gt;90.0&lt;/td&gt;\\n    &lt;/tr&gt;\\n    &lt;tr&gt;\\n      &lt;th&gt;23&lt;/th&gt;\\n      &lt;td&gt;Rock&lt;/td&gt;\\n      &lt;td&gt;164.0&lt;/td&gt;\\n      &lt;td&gt;71&lt;/td&gt;\\n      &lt;td&gt;150.0&lt;/td&gt;\\n    &lt;/tr&gt;\\n    &lt;tr&gt;\\n      &lt;th&gt;24&lt;/th&gt;\\n      &lt;td&gt;Ground&lt;/td&gt;\\n      &lt;td&gt;180.0&lt;/td&gt;\\n      &lt;td&gt;90&lt;/td&gt;\\n      &lt;td&gt;160.0&lt;/td&gt;\\n    &lt;/tr&gt;\\n  &lt;/tbody&gt;\\n&lt;/table&gt;\"},\"id\":\"5363\",\"type\":\"panel.models.markup.HTML\"}],\"root_ids\":[\"5356\",\"5364\"]},\"title\":\"Bokeh Application\",\"version\":\"2.4.3\"}};\n",
       "    var render_items = [{\"docid\":\"098b985d-daa0-4a04-8a1c-a27c7784e36c\",\"root_ids\":[\"5356\"],\"roots\":{\"5356\":\"9f19b4f5-6736-4a2c-b249-e74aaf3fac40\"}}];\n",
       "    root.Bokeh.embed.embed_items_notebook(docs_json, render_items);\n",
       "  }\n",
       "  if (root.Bokeh !== undefined && root.Bokeh.Panel !== undefined && ( root['Tabulator'] !== undefined) && ( root['Tabulator'] !== undefined) && ( root['Tabulator'] !== undefined) && ( root['Tabulator'] !== undefined)) {\n",
       "    embed_document(root);\n",
       "  } else {\n",
       "    var attempts = 0;\n",
       "    var timer = setInterval(function(root) {\n",
       "      if (root.Bokeh !== undefined && root.Bokeh.Panel !== undefined && (root['Tabulator'] !== undefined) && (root['Tabulator'] !== undefined) && (root['Tabulator'] !== undefined) && (root['Tabulator'] !== undefined)) {\n",
       "        clearInterval(timer);\n",
       "        embed_document(root);\n",
       "      } else if (document.readyState == \"complete\") {\n",
       "        attempts++;\n",
       "        if (attempts > 200) {\n",
       "          clearInterval(timer);\n",
       "          console.log(\"Bokeh: ERROR: Unable to run BokehJS code because BokehJS library is missing\");\n",
       "        }\n",
       "      }\n",
       "    }, 25, root)\n",
       "  }\n",
       "})(window);</script>"
      ],
      "text/plain": [
       "<hvplot.interactive.Interactive at 0x27bf63fec50>"
      ]
     },
     "execution_count": 41,
     "metadata": {
      "application/vnd.holoviews_exec.v0+json": {
       "id": "5356"
      }
     },
     "output_type": "execute_result"
    }
   ],
   "source": [
    "filtervalue=['Grass','Fire','Steel']\n",
    "pokemon_pipeline = (\n",
    "    idf[\n",
    "        (idf.HP == HP_slider) &\n",
    "        (~ (idf['Type 1'].isin(filtervalue)))\n",
    "    ]\n",
    "    .groupby(['Type 1', 'Attack', 'Speed'])['Defense'].mean()\n",
    "    .to_frame()\n",
    "    .reset_index()\n",
    "    .sort_values(by='Attack')  \n",
    "    .reset_index(drop=True)\n",
    ")\n",
    "pokemon_pipeline"
   ]
  },
  {
   "cell_type": "code",
   "execution_count": 42,
   "id": "a8bc009c",
   "metadata": {},
   "outputs": [
    {
     "data": {},
     "metadata": {},
     "output_type": "display_data"
    },
    {
     "data": {
      "application/vnd.holoviews_exec.v0+json": "",
      "text/html": [
       "<div id='5365'>\n",
       "  <div class=\"bk-root\" id=\"817415ec-f322-43b3-be44-bd40b5b78d75\" data-root-id=\"5365\"></div>\n",
       "</div>\n",
       "<script type=\"application/javascript\">(function(root) {\n",
       "  function embed_document(root) {\n",
       "    var docs_json = {\"f404ec01-33cd-47f6-bce9-35cae830f628\":{\"defs\":[{\"extends\":null,\"module\":null,\"name\":\"ReactiveHTML1\",\"overrides\":[],\"properties\":[]},{\"extends\":null,\"module\":null,\"name\":\"FlexBox1\",\"overrides\":[],\"properties\":[{\"default\":\"flex-start\",\"kind\":null,\"name\":\"align_content\"},{\"default\":\"flex-start\",\"kind\":null,\"name\":\"align_items\"},{\"default\":\"row\",\"kind\":null,\"name\":\"flex_direction\"},{\"default\":\"wrap\",\"kind\":null,\"name\":\"flex_wrap\"},{\"default\":\"flex-start\",\"kind\":null,\"name\":\"justify_content\"}]},{\"extends\":null,\"module\":null,\"name\":\"GridStack1\",\"overrides\":[],\"properties\":[{\"default\":\"warn\",\"kind\":null,\"name\":\"mode\"},{\"default\":null,\"kind\":null,\"name\":\"ncols\"},{\"default\":null,\"kind\":null,\"name\":\"nrows\"},{\"default\":true,\"kind\":null,\"name\":\"allow_resize\"},{\"default\":true,\"kind\":null,\"name\":\"allow_drag\"},{\"default\":[],\"kind\":null,\"name\":\"state\"}]},{\"extends\":null,\"module\":null,\"name\":\"click1\",\"overrides\":[],\"properties\":[{\"default\":\"\",\"kind\":null,\"name\":\"terminal_output\"},{\"default\":\"\",\"kind\":null,\"name\":\"debug_name\"},{\"default\":0,\"kind\":null,\"name\":\"clears\"}]},{\"extends\":null,\"module\":null,\"name\":\"NotificationAreaBase1\",\"overrides\":[],\"properties\":[{\"default\":\"bottom-right\",\"kind\":null,\"name\":\"position\"},{\"default\":0,\"kind\":null,\"name\":\"_clear\"}]},{\"extends\":null,\"module\":null,\"name\":\"NotificationArea1\",\"overrides\":[],\"properties\":[{\"default\":[],\"kind\":null,\"name\":\"notifications\"},{\"default\":\"bottom-right\",\"kind\":null,\"name\":\"position\"},{\"default\":0,\"kind\":null,\"name\":\"_clear\"},{\"default\":[{\"background\":\"#ffc107\",\"icon\":{\"className\":\"fas fa-exclamation-triangle\",\"color\":\"white\",\"tagName\":\"i\"},\"type\":\"warning\"},{\"background\":\"#007bff\",\"icon\":{\"className\":\"fas fa-info-circle\",\"color\":\"white\",\"tagName\":\"i\"},\"type\":\"info\"}],\"kind\":null,\"name\":\"types\"}]},{\"extends\":null,\"module\":null,\"name\":\"Notification\",\"overrides\":[],\"properties\":[{\"default\":null,\"kind\":null,\"name\":\"background\"},{\"default\":3000,\"kind\":null,\"name\":\"duration\"},{\"default\":null,\"kind\":null,\"name\":\"icon\"},{\"default\":\"\",\"kind\":null,\"name\":\"message\"},{\"default\":null,\"kind\":null,\"name\":\"notification_type\"},{\"default\":false,\"kind\":null,\"name\":\"_destroyed\"}]},{\"extends\":null,\"module\":null,\"name\":\"TemplateActions1\",\"overrides\":[],\"properties\":[{\"default\":0,\"kind\":null,\"name\":\"open_modal\"},{\"default\":0,\"kind\":null,\"name\":\"close_modal\"}]},{\"extends\":null,\"module\":null,\"name\":\"MaterialTemplateActions1\",\"overrides\":[],\"properties\":[{\"default\":0,\"kind\":null,\"name\":\"open_modal\"},{\"default\":0,\"kind\":null,\"name\":\"close_modal\"}]}],\"roots\":{\"references\":[{\"attributes\":{\"client_comm_id\":\"4d86ab70bb3849c2b573b496fe9f3842\",\"comm_id\":\"4c04113db5bf4e8d96d390975c3a8ff8\",\"plot_id\":\"5365\"},\"id\":\"5366\",\"type\":\"panel.models.comm_manager.CommManager\"},{\"attributes\":{\"active\":0,\"button_type\":\"success\",\"labels\":[\"Attack\",\"Speed\",\"Defense\"],\"margin\":[5,10,5,10]},\"id\":\"5365\",\"type\":\"RadioButtonGroup\"}],\"root_ids\":[\"5365\",\"5366\"]},\"title\":\"Bokeh Application\",\"version\":\"2.4.3\"}};\n",
       "    var render_items = [{\"docid\":\"f404ec01-33cd-47f6-bce9-35cae830f628\",\"root_ids\":[\"5365\"],\"roots\":{\"5365\":\"817415ec-f322-43b3-be44-bd40b5b78d75\"}}];\n",
       "    root.Bokeh.embed.embed_items_notebook(docs_json, render_items);\n",
       "  }\n",
       "  if (root.Bokeh !== undefined && root.Bokeh.Panel !== undefined && ( root['Tabulator'] !== undefined) && ( root['Tabulator'] !== undefined) && ( root['Tabulator'] !== undefined) && ( root['Tabulator'] !== undefined)) {\n",
       "    embed_document(root);\n",
       "  } else {\n",
       "    var attempts = 0;\n",
       "    var timer = setInterval(function(root) {\n",
       "      if (root.Bokeh !== undefined && root.Bokeh.Panel !== undefined && (root['Tabulator'] !== undefined) && (root['Tabulator'] !== undefined) && (root['Tabulator'] !== undefined) && (root['Tabulator'] !== undefined)) {\n",
       "        clearInterval(timer);\n",
       "        embed_document(root);\n",
       "      } else if (document.readyState == \"complete\") {\n",
       "        attempts++;\n",
       "        if (attempts > 200) {\n",
       "          clearInterval(timer);\n",
       "          console.log(\"Bokeh: ERROR: Unable to run BokehJS code because BokehJS library is missing\");\n",
       "        }\n",
       "      }\n",
       "    }, 25, root)\n",
       "  }\n",
       "})(window);</script>"
      ],
      "text/plain": [
       "RadioButtonGroup(button_type='success', name='Y axis', options=['Attack', 'Speed', ...], value='Attack')"
      ]
     },
     "execution_count": 42,
     "metadata": {
      "application/vnd.holoviews_exec.v0+json": {
       "id": "5365"
      }
     },
     "output_type": "execute_result"
    }
   ],
   "source": [
    "# Radio buttons for CO2 measures\n",
    "yaxis_poke = pn.widgets.RadioButtonGroup(\n",
    "    name='Y axis', \n",
    "    options=['Attack','Speed', 'Defense',],\n",
    "    button_type='success'\n",
    ")\n",
    "yaxis_poke"
   ]
  },
  {
   "cell_type": "code",
   "execution_count": 43,
   "id": "ad412fa4",
   "metadata": {},
   "outputs": [
    {
     "data": {},
     "metadata": {},
     "output_type": "display_data"
    },
    {
     "data": {},
     "metadata": {},
     "output_type": "display_data"
    },
    {
     "data": {
      "application/vnd.holoviews_exec.v0+json": "",
      "text/html": [
       "<div id='5367'>\n",
       "  <div class=\"bk-root\" id=\"ed2f2d51-9462-4ed5-a35b-80eb8ad0a52f\" data-root-id=\"5367\"></div>\n",
       "</div>\n",
       "<script type=\"application/javascript\">(function(root) {\n",
       "  function embed_document(root) {\n",
       "    var docs_json = {\"91340ae2-5fd1-4855-a3e6-f05cc00a44cc\":{\"defs\":[{\"extends\":null,\"module\":null,\"name\":\"ReactiveHTML1\",\"overrides\":[],\"properties\":[]},{\"extends\":null,\"module\":null,\"name\":\"FlexBox1\",\"overrides\":[],\"properties\":[{\"default\":\"flex-start\",\"kind\":null,\"name\":\"align_content\"},{\"default\":\"flex-start\",\"kind\":null,\"name\":\"align_items\"},{\"default\":\"row\",\"kind\":null,\"name\":\"flex_direction\"},{\"default\":\"wrap\",\"kind\":null,\"name\":\"flex_wrap\"},{\"default\":\"flex-start\",\"kind\":null,\"name\":\"justify_content\"}]},{\"extends\":null,\"module\":null,\"name\":\"GridStack1\",\"overrides\":[],\"properties\":[{\"default\":\"warn\",\"kind\":null,\"name\":\"mode\"},{\"default\":null,\"kind\":null,\"name\":\"ncols\"},{\"default\":null,\"kind\":null,\"name\":\"nrows\"},{\"default\":true,\"kind\":null,\"name\":\"allow_resize\"},{\"default\":true,\"kind\":null,\"name\":\"allow_drag\"},{\"default\":[],\"kind\":null,\"name\":\"state\"}]},{\"extends\":null,\"module\":null,\"name\":\"click1\",\"overrides\":[],\"properties\":[{\"default\":\"\",\"kind\":null,\"name\":\"terminal_output\"},{\"default\":\"\",\"kind\":null,\"name\":\"debug_name\"},{\"default\":0,\"kind\":null,\"name\":\"clears\"}]},{\"extends\":null,\"module\":null,\"name\":\"NotificationAreaBase1\",\"overrides\":[],\"properties\":[{\"default\":\"bottom-right\",\"kind\":null,\"name\":\"position\"},{\"default\":0,\"kind\":null,\"name\":\"_clear\"}]},{\"extends\":null,\"module\":null,\"name\":\"NotificationArea1\",\"overrides\":[],\"properties\":[{\"default\":[],\"kind\":null,\"name\":\"notifications\"},{\"default\":\"bottom-right\",\"kind\":null,\"name\":\"position\"},{\"default\":0,\"kind\":null,\"name\":\"_clear\"},{\"default\":[{\"background\":\"#ffc107\",\"icon\":{\"className\":\"fas fa-exclamation-triangle\",\"color\":\"white\",\"tagName\":\"i\"},\"type\":\"warning\"},{\"background\":\"#007bff\",\"icon\":{\"className\":\"fas fa-info-circle\",\"color\":\"white\",\"tagName\":\"i\"},\"type\":\"info\"}],\"kind\":null,\"name\":\"types\"}]},{\"extends\":null,\"module\":null,\"name\":\"Notification\",\"overrides\":[],\"properties\":[{\"default\":null,\"kind\":null,\"name\":\"background\"},{\"default\":3000,\"kind\":null,\"name\":\"duration\"},{\"default\":null,\"kind\":null,\"name\":\"icon\"},{\"default\":\"\",\"kind\":null,\"name\":\"message\"},{\"default\":null,\"kind\":null,\"name\":\"notification_type\"},{\"default\":false,\"kind\":null,\"name\":\"_destroyed\"}]},{\"extends\":null,\"module\":null,\"name\":\"TemplateActions1\",\"overrides\":[],\"properties\":[{\"default\":0,\"kind\":null,\"name\":\"open_modal\"},{\"default\":0,\"kind\":null,\"name\":\"close_modal\"}]},{\"extends\":null,\"module\":null,\"name\":\"MaterialTemplateActions1\",\"overrides\":[],\"properties\":[{\"default\":0,\"kind\":null,\"name\":\"open_modal\"},{\"default\":0,\"kind\":null,\"name\":\"close_modal\"}]}],\"roots\":{\"references\":[{\"attributes\":{},\"id\":\"5398\",\"type\":\"ResetTool\"},{\"attributes\":{\"client_comm_id\":\"47ac0becce7f4d3eaf1fbb70d2c8c109\",\"comm_id\":\"18f436887aea4511bce2f16b2cde6754\",\"plot_id\":\"5367\"},\"id\":\"5462\",\"type\":\"panel.models.comm_manager.CommManager\"},{\"attributes\":{},\"id\":\"5408\",\"type\":\"Selection\"},{\"attributes\":{},\"id\":\"5429\",\"type\":\"UnionRenderers\"},{\"attributes\":{},\"id\":\"5418\",\"type\":\"AllLabels\"},{\"attributes\":{\"bottom\":{\"value\":0},\"fill_alpha\":{\"value\":1.0},\"fill_color\":{\"value\":\"#30a2da\"},\"hatch_alpha\":{\"value\":1.0},\"hatch_color\":{\"value\":\"#30a2da\"},\"hatch_scale\":{\"value\":12.0},\"hatch_weight\":{\"value\":1.0},\"line_alpha\":{\"value\":1.0},\"line_cap\":{\"value\":\"butt\"},\"line_color\":{\"value\":\"black\"},\"line_dash\":{\"value\":[]},\"line_dash_offset\":{\"value\":0},\"line_join\":{\"value\":\"bevel\"},\"line_width\":{\"value\":1},\"top\":{\"field\":\"Attack\"},\"width\":{\"value\":0.8},\"x\":{\"field\":\"Type_1\"}},\"id\":\"5415\",\"type\":\"VBar\"},{\"attributes\":{},\"id\":\"5396\",\"type\":\"WheelZoomTool\"},{\"attributes\":{\"axis_label\":\"Attack\",\"coordinates\":null,\"formatter\":{\"id\":\"5420\"},\"group\":null,\"major_label_policy\":{\"id\":\"5421\"},\"ticker\":{\"id\":\"5391\"}},\"id\":\"5390\",\"type\":\"LinearAxis\"},{\"attributes\":{\"tools\":[{\"id\":\"5377\"},{\"id\":\"5394\"},{\"id\":\"5395\"},{\"id\":\"5396\"},{\"id\":\"5397\"},{\"id\":\"5398\"}]},\"id\":\"5400\",\"type\":\"Toolbar\"},{\"attributes\":{},\"id\":\"5421\",\"type\":\"AllLabels\"},{\"attributes\":{},\"id\":\"5417\",\"type\":\"CategoricalTickFormatter\"},{\"attributes\":{\"end\":300,\"margin\":[5,10,5,10],\"start\":10,\"step\":3,\"title\":\"HP slider\",\"value\":61},\"id\":\"5371\",\"type\":\"Slider\"},{\"attributes\":{},\"id\":\"5383\",\"type\":\"CategoricalScale\"},{\"attributes\":{\"end\":91.8,\"reset_end\":91.8,\"reset_start\":0.0,\"tags\":[[[\"Attack\",\"Attack\",null]]]},\"id\":\"5376\",\"type\":\"Range1d\"},{\"attributes\":{\"fill_alpha\":{\"value\":0.2},\"fill_color\":{\"value\":\"#30a2da\"},\"hatch_alpha\":{\"value\":0.2},\"hatch_color\":{\"value\":\"#30a2da\"},\"line_alpha\":{\"value\":0.2},\"top\":{\"field\":\"Attack\"},\"width\":{\"value\":0.8},\"x\":{\"field\":\"Type_1\"}},\"id\":\"5412\",\"type\":\"VBar\"},{\"attributes\":{},\"id\":\"5394\",\"type\":\"SaveTool\"},{\"attributes\":{\"active\":0,\"button_type\":\"success\",\"labels\":[\"Attack\",\"Speed\",\"Defense\"],\"margin\":[5,10,5,10]},\"id\":\"5372\",\"type\":\"RadioButtonGroup\"},{\"attributes\":{\"factors\":[\"Poison\",\"Dragon\",\"Bug\"],\"tags\":[[[\"Type 1\",\"Type 1\",null]]]},\"id\":\"5375\",\"type\":\"FactorRange\"},{\"attributes\":{\"callback\":null,\"renderers\":[{\"id\":\"5413\"}],\"tags\":[\"hv_created\"],\"tooltips\":[[\"Type 1\",\"@{Type_1}\"],[\"Attack\",\"@{Attack}\"]]},\"id\":\"5377\",\"type\":\"HoverTool\"},{\"attributes\":{\"fill_color\":{\"value\":\"#30a2da\"},\"hatch_color\":{\"value\":\"#30a2da\"},\"top\":{\"field\":\"Attack\"},\"width\":{\"value\":0.8},\"x\":{\"field\":\"Type_1\"}},\"id\":\"5410\",\"type\":\"VBar\"},{\"attributes\":{\"margin\":[5,5,5,5],\"name\":\"HSpacer11028\",\"sizing_mode\":\"stretch_width\"},\"id\":\"5373\",\"type\":\"Spacer\"},{\"attributes\":{\"coordinates\":null,\"group\":null,\"text\":\"CO2 source by continent\",\"text_color\":\"black\",\"text_font_size\":\"12pt\"},\"id\":\"5379\",\"type\":\"Title\"},{\"attributes\":{\"children\":[{\"id\":\"5378\"}],\"margin\":[0,0,0,0],\"name\":\"Row10915\"},\"id\":\"5374\",\"type\":\"Row\"},{\"attributes\":{},\"id\":\"5385\",\"type\":\"LinearScale\"},{\"attributes\":{},\"id\":\"5395\",\"type\":\"PanTool\"},{\"attributes\":{\"source\":{\"id\":\"5407\"}},\"id\":\"5414\",\"type\":\"CDSView\"},{\"attributes\":{\"axis_label\":\"Type 1\",\"coordinates\":null,\"formatter\":{\"id\":\"5417\"},\"group\":null,\"major_label_policy\":{\"id\":\"5418\"},\"ticker\":{\"id\":\"5388\"}},\"id\":\"5387\",\"type\":\"CategoricalAxis\"},{\"attributes\":{\"below\":[{\"id\":\"5387\"}],\"center\":[{\"id\":\"5389\"},{\"id\":\"5393\"}],\"height\":300,\"left\":[{\"id\":\"5390\"}],\"margin\":[5,5,5,5],\"min_border_bottom\":10,\"min_border_left\":10,\"min_border_right\":10,\"min_border_top\":10,\"renderers\":[{\"id\":\"5413\"}],\"sizing_mode\":\"fixed\",\"title\":{\"id\":\"5379\"},\"toolbar\":{\"id\":\"5400\"},\"width\":700,\"x_range\":{\"id\":\"5375\"},\"x_scale\":{\"id\":\"5383\"},\"y_range\":{\"id\":\"5376\"},\"y_scale\":{\"id\":\"5385\"}},\"id\":\"5378\",\"subtype\":\"Figure\",\"type\":\"Plot\"},{\"attributes\":{\"axis\":{\"id\":\"5390\"},\"coordinates\":null,\"dimension\":1,\"grid_line_color\":null,\"group\":null,\"ticker\":null},\"id\":\"5393\",\"type\":\"Grid\"},{\"attributes\":{\"bottom_units\":\"screen\",\"coordinates\":null,\"fill_alpha\":0.5,\"fill_color\":\"lightgrey\",\"group\":null,\"left_units\":\"screen\",\"level\":\"overlay\",\"line_alpha\":1.0,\"line_color\":\"black\",\"line_dash\":[4,4],\"line_width\":2,\"right_units\":\"screen\",\"syncable\":false,\"top_units\":\"screen\"},\"id\":\"5399\",\"type\":\"BoxAnnotation\"},{\"attributes\":{\"data\":{\"Attack\":{\"__ndarray__\":\"AAAAAAAAUkAAAAAAAABVQAAAAAAAgFZA\",\"dtype\":\"float64\",\"order\":\"little\",\"shape\":[3]},\"Type_1\":[\"Poison\",\"Dragon\",\"Bug\"]},\"selected\":{\"id\":\"5408\"},\"selection_policy\":{\"id\":\"5429\"}},\"id\":\"5407\",\"type\":\"ColumnDataSource\"},{\"attributes\":{},\"id\":\"5420\",\"type\":\"BasicTickFormatter\"},{\"attributes\":{\"axis\":{\"id\":\"5387\"},\"coordinates\":null,\"grid_line_color\":null,\"group\":null,\"ticker\":null},\"id\":\"5389\",\"type\":\"Grid\"},{\"attributes\":{\"children\":[{\"id\":\"5370\"},{\"id\":\"5373\"}],\"margin\":[0,0,0,0],\"name\":\"Row11029\"},\"id\":\"5369\",\"type\":\"Row\"},{\"attributes\":{\"children\":[{\"id\":\"5371\"},{\"id\":\"5372\"}],\"margin\":[0,0,0,0],\"name\":\"Column10910\"},\"id\":\"5370\",\"type\":\"Column\"},{\"attributes\":{\"fill_alpha\":{\"value\":0.1},\"fill_color\":{\"value\":\"#30a2da\"},\"hatch_alpha\":{\"value\":0.1},\"hatch_color\":{\"value\":\"#30a2da\"},\"line_alpha\":{\"value\":0.1},\"top\":{\"field\":\"Attack\"},\"width\":{\"value\":0.8},\"x\":{\"field\":\"Type_1\"}},\"id\":\"5411\",\"type\":\"VBar\"},{\"attributes\":{},\"id\":\"5388\",\"type\":\"CategoricalTicker\"},{\"attributes\":{},\"id\":\"5391\",\"type\":\"BasicTicker\"},{\"attributes\":{\"children\":[{\"id\":\"5369\"},{\"id\":\"5374\"}],\"margin\":[0,0,0,0],\"name\":\"Column11030\"},\"id\":\"5368\",\"type\":\"Column\"},{\"attributes\":{\"coordinates\":null,\"data_source\":{\"id\":\"5407\"},\"glyph\":{\"id\":\"5410\"},\"group\":null,\"hover_glyph\":null,\"muted_glyph\":{\"id\":\"5412\"},\"nonselection_glyph\":{\"id\":\"5411\"},\"selection_glyph\":{\"id\":\"5415\"},\"view\":{\"id\":\"5414\"}},\"id\":\"5413\",\"type\":\"GlyphRenderer\"},{\"attributes\":{\"children\":[{\"id\":\"5368\"}],\"margin\":[0,0,0,0],\"name\":\"Row11031\"},\"id\":\"5367\",\"type\":\"Row\"},{\"attributes\":{\"overlay\":{\"id\":\"5399\"}},\"id\":\"5397\",\"type\":\"BoxZoomTool\"}],\"root_ids\":[\"5367\",\"5462\"]},\"title\":\"Bokeh Application\",\"version\":\"2.4.3\"}};\n",
       "    var render_items = [{\"docid\":\"91340ae2-5fd1-4855-a3e6-f05cc00a44cc\",\"root_ids\":[\"5367\"],\"roots\":{\"5367\":\"ed2f2d51-9462-4ed5-a35b-80eb8ad0a52f\"}}];\n",
       "    root.Bokeh.embed.embed_items_notebook(docs_json, render_items);\n",
       "  }\n",
       "  if (root.Bokeh !== undefined && root.Bokeh.Panel !== undefined && ( root['Tabulator'] !== undefined) && ( root['Tabulator'] !== undefined) && ( root['Tabulator'] !== undefined) && ( root['Tabulator'] !== undefined)) {\n",
       "    embed_document(root);\n",
       "  } else {\n",
       "    var attempts = 0;\n",
       "    var timer = setInterval(function(root) {\n",
       "      if (root.Bokeh !== undefined && root.Bokeh.Panel !== undefined && (root['Tabulator'] !== undefined) && (root['Tabulator'] !== undefined) && (root['Tabulator'] !== undefined) && (root['Tabulator'] !== undefined)) {\n",
       "        clearInterval(timer);\n",
       "        embed_document(root);\n",
       "      } else if (document.readyState == \"complete\") {\n",
       "        attempts++;\n",
       "        if (attempts > 200) {\n",
       "          clearInterval(timer);\n",
       "          console.log(\"Bokeh: ERROR: Unable to run BokehJS code because BokehJS library is missing\");\n",
       "        }\n",
       "      }\n",
       "    }, 25, root)\n",
       "  }\n",
       "})(window);</script>"
      ],
      "text/plain": [
       "<hvplot.interactive.Interactive at 0x27bf615fd60>"
      ]
     },
     "execution_count": 43,
     "metadata": {
      "application/vnd.holoviews_exec.v0+json": {
       "id": "5367"
      }
     },
     "output_type": "execute_result"
    }
   ],
   "source": [
    "pokemon_bar_plot = co2_vs_gdp_scatterplot_pipeline.hvplot(kind='bar', \n",
    "                                                     x='Type 1', \n",
    "                                                     y=yaxis_poke, \n",
    "                                                     title='CO2 source by continent')\n",
    "pokemon_bar_plot"
   ]
  },
  {
   "cell_type": "code",
   "execution_count": 44,
   "id": "269fa248",
   "metadata": {},
   "outputs": [
    {
     "name": "stdout",
     "output_type": "stream",
     "text": [
      "Launching server at http://localhost:61690\n"
     ]
    },
    {
     "data": {
      "text/plain": [
       "<bokeh.server.server.Server at 0x27bf6190100>"
      ]
     },
     "execution_count": 44,
     "metadata": {},
     "output_type": "execute_result"
    }
   ],
   "source": [
    "#Create a dashbord\n",
    "\n",
    "#Layout using Template\n",
    "template = pn.template.FastListTemplate(\n",
    "    title='Pokemon DataDashboard', \n",
    "    sidebar=[pn.pane.Markdown(\"# Dashboard creation\"), \n",
    "             pn.pane.Markdown(\"#### This dataset contains information on all 802 Pokemon from all Seven Generations of Pokemon. The information contained in this dataset include Base Stats, Performance against Other Types, Height, Weight, Classification, Egg Steps, Experience Points, Abilities, etc. The information was scraped from http://serebii.net/\"), \n",
    "             pn.pane.PNG('pokemon.png', sizing_mode='scale_both'),\n",
    "             pn.pane.Markdown(\"## Settings\"),   \n",
    "             HP_slider],\n",
    "    main=[pn.Row(pn.Column(yaxis_co2, \n",
    "                           pokemon_plot.panel(width=700), margin=(0,25)), \n",
    "                 co2_table.panel(width=500)), \n",
    "          pn.Row(pn.Column(yaxis_poke, pokemon_bar_plot.panel(width=600)))],\n",
    "    accent_base_color=\"#88d8b0\",\n",
    "    header_background=\"#88d8b0\",\n",
    ")\n",
    "template.show()\n",
    "#template.servable();\n"
   ]
  },
  {
   "cell_type": "code",
   "execution_count": null,
   "id": "23842131",
   "metadata": {},
   "outputs": [],
   "source": []
  }
 ],
 "metadata": {
  "kernelspec": {
   "display_name": "dskernel",
   "language": "python",
   "name": "dskernel"
  },
  "language_info": {
   "codemirror_mode": {
    "name": "ipython",
    "version": 3
   },
   "file_extension": ".py",
   "mimetype": "text/x-python",
   "name": "python",
   "nbconvert_exporter": "python",
   "pygments_lexer": "ipython3",
   "version": "3.10.4"
  }
 },
 "nbformat": 4,
 "nbformat_minor": 5
}
